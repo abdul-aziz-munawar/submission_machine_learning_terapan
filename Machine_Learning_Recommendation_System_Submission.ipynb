{
  "nbformat": 4,
  "nbformat_minor": 0,
  "metadata": {
    "colab": {
      "provenance": []
    },
    "kernelspec": {
      "name": "python3",
      "display_name": "Python 3"
    },
    "language_info": {
      "name": "python"
    }
  },
  "cells": [
    {
      "cell_type": "markdown",
      "source": [
        "**Membuat Sistem Rekomendasi Film Menggunakan Machine Learning**\n",
        "\n",
        "---\n",
        "Sistem ini dibuat untuk memenuhi tugas Submission Kelas Machine Learning Terapan yang difasilitasi oleh Kementerian Pariwisata dan Ekonomi Kreatif (Kemenparekraf) bekerjasama dengan Dicoding.\n",
        "\n",
        "---\n",
        "Untuk membuat sistem rekomendasi film menggunakan machine learning, pertama import library dan module yang dibutuhkan."
      ],
      "metadata": {
        "id": "5BRowq9PCu5t"
      }
    },
    {
      "cell_type": "code",
      "execution_count": null,
      "metadata": {
        "id": "XR1Ph8c5Obpl"
      },
      "outputs": [],
      "source": [
        "import os\n",
        "import pandas as pd\n",
        "import numpy as np\n",
        "import tensorflow as tf\n",
        "import matplotlib.pyplot as plt\n",
        "import seaborn as sns\n",
        "\n",
        "from google.colab import drive\n",
        "from sklearn.feature_extraction.text import TfidfVectorizer\n",
        "from tensorflow import keras\n",
        "from tensorflow.keras import layers\n",
        "from numpy import sqrt\n",
        "from sklearn.metrics import mean_squared_error"
      ]
    },
    {
      "cell_type": "markdown",
      "source": [
        "**Install library Kaggle**\n",
        "\n",
        "---\n",
        "\n",
        "Menginstal library tambahan yang dibutuhkan. Dalam hal ini, library Kaggle yang nantinya akan digunakann untuk load dataset dari situs Kaggle"
      ],
      "metadata": {
        "id": "YjFwuwETQHAj"
      }
    },
    {
      "cell_type": "code",
      "source": [
        "!pip install kaggle"
      ],
      "metadata": {
        "colab": {
          "base_uri": "https://localhost:8080/"
        },
        "id": "JEk2utf2QEFm",
        "outputId": "b3697ce4-40a9-443b-92c3-7b1f0efa0f82"
      },
      "execution_count": null,
      "outputs": [
        {
          "output_type": "stream",
          "name": "stdout",
          "text": [
            "Looking in indexes: https://pypi.org/simple, https://us-python.pkg.dev/colab-wheels/public/simple/\n",
            "Requirement already satisfied: kaggle in /usr/local/lib/python3.10/dist-packages (1.5.13)\n",
            "Requirement already satisfied: six>=1.10 in /usr/local/lib/python3.10/dist-packages (from kaggle) (1.16.0)\n",
            "Requirement already satisfied: python-dateutil in /usr/local/lib/python3.10/dist-packages (from kaggle) (2.8.2)\n",
            "Requirement already satisfied: tqdm in /usr/local/lib/python3.10/dist-packages (from kaggle) (4.65.0)\n",
            "Requirement already satisfied: requests in /usr/local/lib/python3.10/dist-packages (from kaggle) (2.27.1)\n",
            "Requirement already satisfied: certifi in /usr/local/lib/python3.10/dist-packages (from kaggle) (2022.12.7)\n",
            "Requirement already satisfied: python-slugify in /usr/local/lib/python3.10/dist-packages (from kaggle) (8.0.1)\n",
            "Requirement already satisfied: urllib3 in /usr/local/lib/python3.10/dist-packages (from kaggle) (1.26.15)\n",
            "Requirement already satisfied: text-unidecode>=1.3 in /usr/local/lib/python3.10/dist-packages (from python-slugify->kaggle) (1.3)\n",
            "Requirement already satisfied: idna<4,>=2.5 in /usr/local/lib/python3.10/dist-packages (from requests->kaggle) (3.4)\n",
            "Requirement already satisfied: charset-normalizer~=2.0.0 in /usr/local/lib/python3.10/dist-packages (from requests->kaggle) (2.0.12)\n"
          ]
        }
      ]
    },
    {
      "cell_type": "markdown",
      "source": [
        "**Mount Google Drive Ke Dalam Google Colab**\n",
        "\n",
        "---\n",
        "Memberikan izin akses Google Colab untuk menggunakan Google Drive. Tujuannya, Agar dataset yang telah di download dari situs Kaggle tidak hilang saat session timeout, karena dataset tersebut telah disimpan pada Google Drive."
      ],
      "metadata": {
        "id": "tbchyOOOEXoD"
      }
    },
    {
      "cell_type": "code",
      "source": [
        "drive.mount('/content/gdrive')"
      ],
      "metadata": {
        "colab": {
          "base_uri": "https://localhost:8080/"
        },
        "id": "FfbfwZQuQnnN",
        "outputId": "af54cc34-ba39-46d6-9e50-82a76aadfb4c"
      },
      "execution_count": null,
      "outputs": [
        {
          "output_type": "stream",
          "name": "stdout",
          "text": [
            "Drive already mounted at /content/gdrive; to attempt to forcibly remount, call drive.mount(\"/content/gdrive\", force_remount=True).\n"
          ]
        }
      ]
    },
    {
      "cell_type": "markdown",
      "source": [
        "**Pengatur Path Penyimpanan Dataset**\n",
        "\n",
        "---\n",
        "Mengatur path (direktori/folder) yang akan digunakan dalam penyimpanan dataset."
      ],
      "metadata": {
        "id": "kMjvFQ_REb58"
      }
    },
    {
      "cell_type": "code",
      "source": [
        "os.environ['KAGGLE_CONFIG_DIR'] = '/content/gdrive/MyDrive/recommendation'\n",
        "%cd /content/gdrive/MyDrive/recommendation"
      ],
      "metadata": {
        "colab": {
          "base_uri": "https://localhost:8080/"
        },
        "id": "wYtmeA7kQ161",
        "outputId": "05bea94e-0968-4abe-c4e9-8a5d303d88b7"
      },
      "execution_count": null,
      "outputs": [
        {
          "output_type": "stream",
          "name": "stdout",
          "text": [
            "/content/gdrive/MyDrive/recommendation\n"
          ]
        }
      ]
    },
    {
      "cell_type": "markdown",
      "source": [
        "**Download Dataset**\n",
        "\n",
        "---\n",
        "Download dataset dari situs Kaggle untuk digunakan dalam pembuatan Recommendation System"
      ],
      "metadata": {
        "id": "vqjkaMyuEhg1"
      }
    },
    {
      "cell_type": "code",
      "source": [
        "!kaggle datasets download -d hariprabu/imdb-1000"
      ],
      "metadata": {
        "colab": {
          "base_uri": "https://localhost:8080/"
        },
        "id": "5h4eRv9_RX-o",
        "outputId": "fe220777-c7e6-4642-a3a8-7b8868230a87"
      },
      "execution_count": null,
      "outputs": [
        {
          "output_type": "stream",
          "name": "stdout",
          "text": [
            "imdb-1000.zip: Skipping, found more recently modified local copy (use --force to force download)\n"
          ]
        }
      ]
    },
    {
      "cell_type": "markdown",
      "source": [
        "**Ekstrak Dataset**\n",
        "\n",
        "---\n",
        "Ekstrak dataset yang masih dalam file .zip"
      ],
      "metadata": {
        "id": "LwKIyzfjEvgz"
      }
    },
    {
      "cell_type": "code",
      "source": [
        "!unzip /content/gdrive/MyDrive/recommendation/imdb-1000.zip"
      ],
      "metadata": {
        "colab": {
          "base_uri": "https://localhost:8080/"
        },
        "id": "WBwp4FkQRy6c",
        "outputId": "abc4d0bd-529e-4fa2-91b9-70c1c7c1c71e"
      },
      "execution_count": null,
      "outputs": [
        {
          "output_type": "stream",
          "name": "stdout",
          "text": [
            "unzip:  cannot find or open /content/gdrive/MyDrive/recommendation/imdb-1000.zip, /content/gdrive/MyDrive/recommendation/imdb-1000.zip.zip or /content/gdrive/MyDrive/recommendation/imdb-1000.zip.ZIP.\n"
          ]
        }
      ]
    },
    {
      "cell_type": "markdown",
      "source": [
        "**Load Dataset**\n",
        "\n",
        "---\n",
        "Dataset yang telah tersedia di Google Drive, kemudian di load untuk dianalisis lebih lanjut."
      ],
      "metadata": {
        "id": "OCJRRckWE0Jj"
      }
    },
    {
      "cell_type": "code",
      "source": [
        "movies = pd.read_csv('/content/gdrive/MyDrive/recommendation/movies.csv')\n",
        "ratings = pd.read_csv('/content/gdrive/MyDrive/recommendation/ratings.csv')\n",
        "\n",
        "print('Jumlah film dalam dataset movies: ', len(movies.movieId.unique()))\n",
        "print('Jumlah user yang memberikan rating: ', len(ratings.userId.unique()))"
      ],
      "metadata": {
        "colab": {
          "base_uri": "https://localhost:8080/"
        },
        "id": "ouEHxailSIcD",
        "outputId": "d88a7569-a36a-41ea-df43-2ed43292afe3"
      },
      "execution_count": null,
      "outputs": [
        {
          "output_type": "stream",
          "name": "stdout",
          "text": [
            "Jumlah film dalam dataset movies:  9125\n",
            "Jumlah user yang memberikan rating:  610\n"
          ]
        }
      ]
    },
    {
      "cell_type": "markdown",
      "source": [
        "**Memeriksa Nama Variabel dan Missing Value Dataset movies**\n",
        "\n",
        "---\n",
        "Memeriksa nama variabel yang digunakan pada dataset movies serta missing valuenya."
      ],
      "metadata": {
        "id": "kU71l89dFFHz"
      }
    },
    {
      "cell_type": "code",
      "source": [
        "movies.info()"
      ],
      "metadata": {
        "colab": {
          "base_uri": "https://localhost:8080/"
        },
        "id": "1Ah94z1VTj5D",
        "outputId": "9cc365db-1513-4351-96fd-88cf6c10a21d"
      },
      "execution_count": null,
      "outputs": [
        {
          "output_type": "stream",
          "name": "stdout",
          "text": [
            "<class 'pandas.core.frame.DataFrame'>\n",
            "RangeIndex: 9125 entries, 0 to 9124\n",
            "Data columns (total 3 columns):\n",
            " #   Column   Non-Null Count  Dtype \n",
            "---  ------   --------------  ----- \n",
            " 0   movieId  9125 non-null   int64 \n",
            " 1   title    9125 non-null   object\n",
            " 2   genres   9125 non-null   object\n",
            "dtypes: int64(1), object(2)\n",
            "memory usage: 214.0+ KB\n"
          ]
        }
      ]
    },
    {
      "cell_type": "markdown",
      "source": [
        "**Memeriksa Nama Variabel dan Missing Value Dataset ratings**\n",
        "\n",
        "---\n",
        "Memeriksa nama variabel yang digunakan pada dataset ratings dan missing valuenya."
      ],
      "metadata": {
        "id": "mngym93zH0vw"
      }
    },
    {
      "cell_type": "code",
      "source": [
        "ratings.info()"
      ],
      "metadata": {
        "colab": {
          "base_uri": "https://localhost:8080/"
        },
        "id": "UX82E3sRHPOT",
        "outputId": "62c5029b-d33f-473f-c1e4-fe1804750040"
      },
      "execution_count": null,
      "outputs": [
        {
          "output_type": "stream",
          "name": "stdout",
          "text": [
            "<class 'pandas.core.frame.DataFrame'>\n",
            "RangeIndex: 100836 entries, 0 to 100835\n",
            "Data columns (total 4 columns):\n",
            " #   Column     Non-Null Count   Dtype  \n",
            "---  ------     --------------   -----  \n",
            " 0   userId     100836 non-null  int64  \n",
            " 1   movieId    100836 non-null  int64  \n",
            " 2   rating     100836 non-null  float64\n",
            " 3   timestamp  100836 non-null  int64  \n",
            "dtypes: float64(1), int64(3)\n",
            "memory usage: 3.1 MB\n"
          ]
        }
      ]
    },
    {
      "cell_type": "markdown",
      "source": [
        "**Menggabungkan Dataset movies dan ratings**\n",
        "\n",
        "---\n",
        "Agar dataset dapat dianalisis dengan menggunakan pendekatan Content Based Filtering dan Collaborative Filtering, maka dataset Movies dan Ratings harus digabungkan."
      ],
      "metadata": {
        "id": "sXRiE0c9Fvwh"
      }
    },
    {
      "cell_type": "code",
      "source": [
        "movies_with_ratings = pd.concat([movies, ratings])\n",
        "movies_with_ratings = pd.merge(movies, ratings, on='movieId', how='left')\n",
        "movies_with_ratings"
      ],
      "metadata": {
        "colab": {
          "base_uri": "https://localhost:8080/",
          "height": 424
        },
        "id": "QgXDfUqiCByM",
        "outputId": "3f289787-63c4-4e72-8fd3-6be443b35499"
      },
      "execution_count": null,
      "outputs": [
        {
          "output_type": "execute_result",
          "data": {
            "text/plain": [
              "       movieId                                              title  \\\n",
              "0            1                                   Toy Story (1995)   \n",
              "1            1                                   Toy Story (1995)   \n",
              "2            1                                   Toy Story (1995)   \n",
              "3            1                                   Toy Story (1995)   \n",
              "4            1                                   Toy Story (1995)   \n",
              "...        ...                                                ...   \n",
              "98859   162672                                Mohenjo Daro (2016)   \n",
              "98860   163056                               Shin Godzilla (2016)   \n",
              "98861   163949  The Beatles: Eight Days a Week - The Touring Y...   \n",
              "98862   164977                           The Gay Desperado (1936)   \n",
              "98863   164979                              Women of '69, Unboxed   \n",
              "\n",
              "                                            genres  userId  rating  \\\n",
              "0      Adventure|Animation|Children|Comedy|Fantasy     1.0     4.0   \n",
              "1      Adventure|Animation|Children|Comedy|Fantasy     5.0     4.0   \n",
              "2      Adventure|Animation|Children|Comedy|Fantasy     7.0     4.5   \n",
              "3      Adventure|Animation|Children|Comedy|Fantasy    15.0     2.5   \n",
              "4      Adventure|Animation|Children|Comedy|Fantasy    17.0     4.5   \n",
              "...                                            ...     ...     ...   \n",
              "98859                      Adventure|Drama|Romance     NaN     NaN   \n",
              "98860              Action|Adventure|Fantasy|Sci-Fi   380.0     4.0   \n",
              "98861                                  Documentary     NaN     NaN   \n",
              "98862                                       Comedy     NaN     NaN   \n",
              "98863                                  Documentary     NaN     NaN   \n",
              "\n",
              "          timestamp  \n",
              "0      9.649827e+08  \n",
              "1      8.474350e+08  \n",
              "2      1.106636e+09  \n",
              "3      1.510578e+09  \n",
              "4      1.305696e+09  \n",
              "...             ...  \n",
              "98859           NaN  \n",
              "98860  1.501787e+09  \n",
              "98861           NaN  \n",
              "98862           NaN  \n",
              "98863           NaN  \n",
              "\n",
              "[98864 rows x 6 columns]"
            ],
            "text/html": [
              "\n",
              "  <div id=\"df-66b957f8-8832-449e-a63b-d9acada282b0\">\n",
              "    <div class=\"colab-df-container\">\n",
              "      <div>\n",
              "<style scoped>\n",
              "    .dataframe tbody tr th:only-of-type {\n",
              "        vertical-align: middle;\n",
              "    }\n",
              "\n",
              "    .dataframe tbody tr th {\n",
              "        vertical-align: top;\n",
              "    }\n",
              "\n",
              "    .dataframe thead th {\n",
              "        text-align: right;\n",
              "    }\n",
              "</style>\n",
              "<table border=\"1\" class=\"dataframe\">\n",
              "  <thead>\n",
              "    <tr style=\"text-align: right;\">\n",
              "      <th></th>\n",
              "      <th>movieId</th>\n",
              "      <th>title</th>\n",
              "      <th>genres</th>\n",
              "      <th>userId</th>\n",
              "      <th>rating</th>\n",
              "      <th>timestamp</th>\n",
              "    </tr>\n",
              "  </thead>\n",
              "  <tbody>\n",
              "    <tr>\n",
              "      <th>0</th>\n",
              "      <td>1</td>\n",
              "      <td>Toy Story (1995)</td>\n",
              "      <td>Adventure|Animation|Children|Comedy|Fantasy</td>\n",
              "      <td>1.0</td>\n",
              "      <td>4.0</td>\n",
              "      <td>9.649827e+08</td>\n",
              "    </tr>\n",
              "    <tr>\n",
              "      <th>1</th>\n",
              "      <td>1</td>\n",
              "      <td>Toy Story (1995)</td>\n",
              "      <td>Adventure|Animation|Children|Comedy|Fantasy</td>\n",
              "      <td>5.0</td>\n",
              "      <td>4.0</td>\n",
              "      <td>8.474350e+08</td>\n",
              "    </tr>\n",
              "    <tr>\n",
              "      <th>2</th>\n",
              "      <td>1</td>\n",
              "      <td>Toy Story (1995)</td>\n",
              "      <td>Adventure|Animation|Children|Comedy|Fantasy</td>\n",
              "      <td>7.0</td>\n",
              "      <td>4.5</td>\n",
              "      <td>1.106636e+09</td>\n",
              "    </tr>\n",
              "    <tr>\n",
              "      <th>3</th>\n",
              "      <td>1</td>\n",
              "      <td>Toy Story (1995)</td>\n",
              "      <td>Adventure|Animation|Children|Comedy|Fantasy</td>\n",
              "      <td>15.0</td>\n",
              "      <td>2.5</td>\n",
              "      <td>1.510578e+09</td>\n",
              "    </tr>\n",
              "    <tr>\n",
              "      <th>4</th>\n",
              "      <td>1</td>\n",
              "      <td>Toy Story (1995)</td>\n",
              "      <td>Adventure|Animation|Children|Comedy|Fantasy</td>\n",
              "      <td>17.0</td>\n",
              "      <td>4.5</td>\n",
              "      <td>1.305696e+09</td>\n",
              "    </tr>\n",
              "    <tr>\n",
              "      <th>...</th>\n",
              "      <td>...</td>\n",
              "      <td>...</td>\n",
              "      <td>...</td>\n",
              "      <td>...</td>\n",
              "      <td>...</td>\n",
              "      <td>...</td>\n",
              "    </tr>\n",
              "    <tr>\n",
              "      <th>98859</th>\n",
              "      <td>162672</td>\n",
              "      <td>Mohenjo Daro (2016)</td>\n",
              "      <td>Adventure|Drama|Romance</td>\n",
              "      <td>NaN</td>\n",
              "      <td>NaN</td>\n",
              "      <td>NaN</td>\n",
              "    </tr>\n",
              "    <tr>\n",
              "      <th>98860</th>\n",
              "      <td>163056</td>\n",
              "      <td>Shin Godzilla (2016)</td>\n",
              "      <td>Action|Adventure|Fantasy|Sci-Fi</td>\n",
              "      <td>380.0</td>\n",
              "      <td>4.0</td>\n",
              "      <td>1.501787e+09</td>\n",
              "    </tr>\n",
              "    <tr>\n",
              "      <th>98861</th>\n",
              "      <td>163949</td>\n",
              "      <td>The Beatles: Eight Days a Week - The Touring Y...</td>\n",
              "      <td>Documentary</td>\n",
              "      <td>NaN</td>\n",
              "      <td>NaN</td>\n",
              "      <td>NaN</td>\n",
              "    </tr>\n",
              "    <tr>\n",
              "      <th>98862</th>\n",
              "      <td>164977</td>\n",
              "      <td>The Gay Desperado (1936)</td>\n",
              "      <td>Comedy</td>\n",
              "      <td>NaN</td>\n",
              "      <td>NaN</td>\n",
              "      <td>NaN</td>\n",
              "    </tr>\n",
              "    <tr>\n",
              "      <th>98863</th>\n",
              "      <td>164979</td>\n",
              "      <td>Women of '69, Unboxed</td>\n",
              "      <td>Documentary</td>\n",
              "      <td>NaN</td>\n",
              "      <td>NaN</td>\n",
              "      <td>NaN</td>\n",
              "    </tr>\n",
              "  </tbody>\n",
              "</table>\n",
              "<p>98864 rows × 6 columns</p>\n",
              "</div>\n",
              "      <button class=\"colab-df-convert\" onclick=\"convertToInteractive('df-66b957f8-8832-449e-a63b-d9acada282b0')\"\n",
              "              title=\"Convert this dataframe to an interactive table.\"\n",
              "              style=\"display:none;\">\n",
              "        \n",
              "  <svg xmlns=\"http://www.w3.org/2000/svg\" height=\"24px\"viewBox=\"0 0 24 24\"\n",
              "       width=\"24px\">\n",
              "    <path d=\"M0 0h24v24H0V0z\" fill=\"none\"/>\n",
              "    <path d=\"M18.56 5.44l.94 2.06.94-2.06 2.06-.94-2.06-.94-.94-2.06-.94 2.06-2.06.94zm-11 1L8.5 8.5l.94-2.06 2.06-.94-2.06-.94L8.5 2.5l-.94 2.06-2.06.94zm10 10l.94 2.06.94-2.06 2.06-.94-2.06-.94-.94-2.06-.94 2.06-2.06.94z\"/><path d=\"M17.41 7.96l-1.37-1.37c-.4-.4-.92-.59-1.43-.59-.52 0-1.04.2-1.43.59L10.3 9.45l-7.72 7.72c-.78.78-.78 2.05 0 2.83L4 21.41c.39.39.9.59 1.41.59.51 0 1.02-.2 1.41-.59l7.78-7.78 2.81-2.81c.8-.78.8-2.07 0-2.86zM5.41 20L4 18.59l7.72-7.72 1.47 1.35L5.41 20z\"/>\n",
              "  </svg>\n",
              "      </button>\n",
              "      \n",
              "  <style>\n",
              "    .colab-df-container {\n",
              "      display:flex;\n",
              "      flex-wrap:wrap;\n",
              "      gap: 12px;\n",
              "    }\n",
              "\n",
              "    .colab-df-convert {\n",
              "      background-color: #E8F0FE;\n",
              "      border: none;\n",
              "      border-radius: 50%;\n",
              "      cursor: pointer;\n",
              "      display: none;\n",
              "      fill: #1967D2;\n",
              "      height: 32px;\n",
              "      padding: 0 0 0 0;\n",
              "      width: 32px;\n",
              "    }\n",
              "\n",
              "    .colab-df-convert:hover {\n",
              "      background-color: #E2EBFA;\n",
              "      box-shadow: 0px 1px 2px rgba(60, 64, 67, 0.3), 0px 1px 3px 1px rgba(60, 64, 67, 0.15);\n",
              "      fill: #174EA6;\n",
              "    }\n",
              "\n",
              "    [theme=dark] .colab-df-convert {\n",
              "      background-color: #3B4455;\n",
              "      fill: #D2E3FC;\n",
              "    }\n",
              "\n",
              "    [theme=dark] .colab-df-convert:hover {\n",
              "      background-color: #434B5C;\n",
              "      box-shadow: 0px 1px 3px 1px rgba(0, 0, 0, 0.15);\n",
              "      filter: drop-shadow(0px 1px 2px rgba(0, 0, 0, 0.3));\n",
              "      fill: #FFFFFF;\n",
              "    }\n",
              "  </style>\n",
              "\n",
              "      <script>\n",
              "        const buttonEl =\n",
              "          document.querySelector('#df-66b957f8-8832-449e-a63b-d9acada282b0 button.colab-df-convert');\n",
              "        buttonEl.style.display =\n",
              "          google.colab.kernel.accessAllowed ? 'block' : 'none';\n",
              "\n",
              "        async function convertToInteractive(key) {\n",
              "          const element = document.querySelector('#df-66b957f8-8832-449e-a63b-d9acada282b0');\n",
              "          const dataTable =\n",
              "            await google.colab.kernel.invokeFunction('convertToInteractive',\n",
              "                                                     [key], {});\n",
              "          if (!dataTable) return;\n",
              "\n",
              "          const docLinkHtml = 'Like what you see? Visit the ' +\n",
              "            '<a target=\"_blank\" href=https://colab.research.google.com/notebooks/data_table.ipynb>data table notebook</a>'\n",
              "            + ' to learn more about interactive tables.';\n",
              "          element.innerHTML = '';\n",
              "          dataTable['output_type'] = 'display_data';\n",
              "          await google.colab.output.renderOutput(dataTable, element);\n",
              "          const docLink = document.createElement('div');\n",
              "          docLink.innerHTML = docLinkHtml;\n",
              "          element.appendChild(docLink);\n",
              "        }\n",
              "      </script>\n",
              "    </div>\n",
              "  </div>\n",
              "  "
            ]
          },
          "metadata": {},
          "execution_count": 13
        }
      ]
    },
    {
      "cell_type": "markdown",
      "source": [
        "**Memeriksa Kembali Missing Value Dataset Gabungan**\n",
        "\n",
        "---\n",
        "Memeriksa kembali missing value dataset gabungan antara movies dan ratings.\n"
      ],
      "metadata": {
        "id": "94L2MKN0IFgi"
      }
    },
    {
      "cell_type": "code",
      "source": [
        "movies_with_ratings.isnull().sum()"
      ],
      "metadata": {
        "colab": {
          "base_uri": "https://localhost:8080/"
        },
        "id": "TiroPwKzDEn7",
        "outputId": "db518d4a-6c92-4aa9-e1b3-56cab283ecbd"
      },
      "execution_count": null,
      "outputs": [
        {
          "output_type": "execute_result",
          "data": {
            "text/plain": [
              "movieId         0\n",
              "title           0\n",
              "genres          0\n",
              "userId       2053\n",
              "rating       2053\n",
              "timestamp    2053\n",
              "dtype: int64"
            ]
          },
          "metadata": {},
          "execution_count": 14
        }
      ]
    },
    {
      "cell_type": "markdown",
      "source": [
        "**Membuang Missing Value**\n",
        "\n",
        "---\n",
        "Membuang missing value yang muncul setelah penggabungan dataset movies dan ratings\n"
      ],
      "metadata": {
        "id": "yNZJBKBsIb12"
      }
    },
    {
      "cell_type": "code",
      "source": [
        "movies_with_ratings = movies_with_ratings.dropna()\n",
        "movies_with_ratings.isnull().sum()"
      ],
      "metadata": {
        "colab": {
          "base_uri": "https://localhost:8080/"
        },
        "id": "zcrSL0sXDjbb",
        "outputId": "96d6d66c-766e-4af3-a282-92e25e577bcc"
      },
      "execution_count": null,
      "outputs": [
        {
          "output_type": "execute_result",
          "data": {
            "text/plain": [
              "movieId      0\n",
              "title        0\n",
              "genres       0\n",
              "userId       0\n",
              "rating       0\n",
              "timestamp    0\n",
              "dtype: int64"
            ]
          },
          "metadata": {},
          "execution_count": 15
        }
      ]
    },
    {
      "cell_type": "markdown",
      "source": [
        "**Membuang Data Duplikat**\n",
        "\n",
        "---\n",
        "Membuang data duplikat yang terdapat pada dataframe movies_with_ratings."
      ],
      "metadata": {
        "id": "1o8998V3HC35"
      }
    },
    {
      "cell_type": "code",
      "source": [
        "movies_with_ratings = movies_with_ratings.drop_duplicates('movieId')\n",
        "movies_with_ratings"
      ],
      "metadata": {
        "id": "Br4pCQef5Zoc",
        "colab": {
          "base_uri": "https://localhost:8080/",
          "height": 424
        },
        "outputId": "d8343819-854a-4ea5-ec94-3b17154339cf"
      },
      "execution_count": null,
      "outputs": [
        {
          "output_type": "execute_result",
          "data": {
            "text/plain": [
              "       movieId                                 title  \\\n",
              "0            1                      Toy Story (1995)   \n",
              "215          2                        Jumanji (1995)   \n",
              "325          3               Grumpier Old Men (1995)   \n",
              "377          4              Waiting to Exhale (1995)   \n",
              "384          5    Father of the Bride Part II (1995)   \n",
              "...        ...                                   ...   \n",
              "98845   161582             Hell or High Water (2016)   \n",
              "98853   161594  Kingsglaive: Final Fantasy XV (2016)   \n",
              "98854   161830                           Body (2015)   \n",
              "98855   161918   Sharknado 4: The 4th Awakens (2016)   \n",
              "98860   163056                  Shin Godzilla (2016)   \n",
              "\n",
              "                                                genres  userId  rating  \\\n",
              "0          Adventure|Animation|Children|Comedy|Fantasy     1.0     4.0   \n",
              "215                         Adventure|Children|Fantasy     6.0     4.0   \n",
              "325                                     Comedy|Romance     1.0     4.0   \n",
              "377                               Comedy|Drama|Romance     6.0     3.0   \n",
              "384                                             Comedy     6.0     5.0   \n",
              "...                                                ...     ...     ...   \n",
              "98845                                      Crime|Drama    18.0     4.0   \n",
              "98853  Action|Adventure|Animation|Drama|Fantasy|Sci-Fi   184.0     3.5   \n",
              "98854                            Drama|Horror|Thriller   448.0     1.0   \n",
              "98855                   Action|Adventure|Horror|Sci-Fi   448.0     1.5   \n",
              "98860                  Action|Adventure|Fantasy|Sci-Fi   380.0     4.0   \n",
              "\n",
              "          timestamp  \n",
              "0      9.649827e+08  \n",
              "215    8.455535e+08  \n",
              "325    9.649812e+08  \n",
              "377    8.455543e+08  \n",
              "384    8.455539e+08  \n",
              "...             ...  \n",
              "98845  1.499632e+09  \n",
              "98853  1.537108e+09  \n",
              "98854  1.472493e+09  \n",
              "98855  1.472930e+09  \n",
              "98860  1.501787e+09  \n",
              "\n",
              "[7072 rows x 6 columns]"
            ],
            "text/html": [
              "\n",
              "  <div id=\"df-1cead338-58a9-4922-89be-e91a1706795c\">\n",
              "    <div class=\"colab-df-container\">\n",
              "      <div>\n",
              "<style scoped>\n",
              "    .dataframe tbody tr th:only-of-type {\n",
              "        vertical-align: middle;\n",
              "    }\n",
              "\n",
              "    .dataframe tbody tr th {\n",
              "        vertical-align: top;\n",
              "    }\n",
              "\n",
              "    .dataframe thead th {\n",
              "        text-align: right;\n",
              "    }\n",
              "</style>\n",
              "<table border=\"1\" class=\"dataframe\">\n",
              "  <thead>\n",
              "    <tr style=\"text-align: right;\">\n",
              "      <th></th>\n",
              "      <th>movieId</th>\n",
              "      <th>title</th>\n",
              "      <th>genres</th>\n",
              "      <th>userId</th>\n",
              "      <th>rating</th>\n",
              "      <th>timestamp</th>\n",
              "    </tr>\n",
              "  </thead>\n",
              "  <tbody>\n",
              "    <tr>\n",
              "      <th>0</th>\n",
              "      <td>1</td>\n",
              "      <td>Toy Story (1995)</td>\n",
              "      <td>Adventure|Animation|Children|Comedy|Fantasy</td>\n",
              "      <td>1.0</td>\n",
              "      <td>4.0</td>\n",
              "      <td>9.649827e+08</td>\n",
              "    </tr>\n",
              "    <tr>\n",
              "      <th>215</th>\n",
              "      <td>2</td>\n",
              "      <td>Jumanji (1995)</td>\n",
              "      <td>Adventure|Children|Fantasy</td>\n",
              "      <td>6.0</td>\n",
              "      <td>4.0</td>\n",
              "      <td>8.455535e+08</td>\n",
              "    </tr>\n",
              "    <tr>\n",
              "      <th>325</th>\n",
              "      <td>3</td>\n",
              "      <td>Grumpier Old Men (1995)</td>\n",
              "      <td>Comedy|Romance</td>\n",
              "      <td>1.0</td>\n",
              "      <td>4.0</td>\n",
              "      <td>9.649812e+08</td>\n",
              "    </tr>\n",
              "    <tr>\n",
              "      <th>377</th>\n",
              "      <td>4</td>\n",
              "      <td>Waiting to Exhale (1995)</td>\n",
              "      <td>Comedy|Drama|Romance</td>\n",
              "      <td>6.0</td>\n",
              "      <td>3.0</td>\n",
              "      <td>8.455543e+08</td>\n",
              "    </tr>\n",
              "    <tr>\n",
              "      <th>384</th>\n",
              "      <td>5</td>\n",
              "      <td>Father of the Bride Part II (1995)</td>\n",
              "      <td>Comedy</td>\n",
              "      <td>6.0</td>\n",
              "      <td>5.0</td>\n",
              "      <td>8.455539e+08</td>\n",
              "    </tr>\n",
              "    <tr>\n",
              "      <th>...</th>\n",
              "      <td>...</td>\n",
              "      <td>...</td>\n",
              "      <td>...</td>\n",
              "      <td>...</td>\n",
              "      <td>...</td>\n",
              "      <td>...</td>\n",
              "    </tr>\n",
              "    <tr>\n",
              "      <th>98845</th>\n",
              "      <td>161582</td>\n",
              "      <td>Hell or High Water (2016)</td>\n",
              "      <td>Crime|Drama</td>\n",
              "      <td>18.0</td>\n",
              "      <td>4.0</td>\n",
              "      <td>1.499632e+09</td>\n",
              "    </tr>\n",
              "    <tr>\n",
              "      <th>98853</th>\n",
              "      <td>161594</td>\n",
              "      <td>Kingsglaive: Final Fantasy XV (2016)</td>\n",
              "      <td>Action|Adventure|Animation|Drama|Fantasy|Sci-Fi</td>\n",
              "      <td>184.0</td>\n",
              "      <td>3.5</td>\n",
              "      <td>1.537108e+09</td>\n",
              "    </tr>\n",
              "    <tr>\n",
              "      <th>98854</th>\n",
              "      <td>161830</td>\n",
              "      <td>Body (2015)</td>\n",
              "      <td>Drama|Horror|Thriller</td>\n",
              "      <td>448.0</td>\n",
              "      <td>1.0</td>\n",
              "      <td>1.472493e+09</td>\n",
              "    </tr>\n",
              "    <tr>\n",
              "      <th>98855</th>\n",
              "      <td>161918</td>\n",
              "      <td>Sharknado 4: The 4th Awakens (2016)</td>\n",
              "      <td>Action|Adventure|Horror|Sci-Fi</td>\n",
              "      <td>448.0</td>\n",
              "      <td>1.5</td>\n",
              "      <td>1.472930e+09</td>\n",
              "    </tr>\n",
              "    <tr>\n",
              "      <th>98860</th>\n",
              "      <td>163056</td>\n",
              "      <td>Shin Godzilla (2016)</td>\n",
              "      <td>Action|Adventure|Fantasy|Sci-Fi</td>\n",
              "      <td>380.0</td>\n",
              "      <td>4.0</td>\n",
              "      <td>1.501787e+09</td>\n",
              "    </tr>\n",
              "  </tbody>\n",
              "</table>\n",
              "<p>7072 rows × 6 columns</p>\n",
              "</div>\n",
              "      <button class=\"colab-df-convert\" onclick=\"convertToInteractive('df-1cead338-58a9-4922-89be-e91a1706795c')\"\n",
              "              title=\"Convert this dataframe to an interactive table.\"\n",
              "              style=\"display:none;\">\n",
              "        \n",
              "  <svg xmlns=\"http://www.w3.org/2000/svg\" height=\"24px\"viewBox=\"0 0 24 24\"\n",
              "       width=\"24px\">\n",
              "    <path d=\"M0 0h24v24H0V0z\" fill=\"none\"/>\n",
              "    <path d=\"M18.56 5.44l.94 2.06.94-2.06 2.06-.94-2.06-.94-.94-2.06-.94 2.06-2.06.94zm-11 1L8.5 8.5l.94-2.06 2.06-.94-2.06-.94L8.5 2.5l-.94 2.06-2.06.94zm10 10l.94 2.06.94-2.06 2.06-.94-2.06-.94-.94-2.06-.94 2.06-2.06.94z\"/><path d=\"M17.41 7.96l-1.37-1.37c-.4-.4-.92-.59-1.43-.59-.52 0-1.04.2-1.43.59L10.3 9.45l-7.72 7.72c-.78.78-.78 2.05 0 2.83L4 21.41c.39.39.9.59 1.41.59.51 0 1.02-.2 1.41-.59l7.78-7.78 2.81-2.81c.8-.78.8-2.07 0-2.86zM5.41 20L4 18.59l7.72-7.72 1.47 1.35L5.41 20z\"/>\n",
              "  </svg>\n",
              "      </button>\n",
              "      \n",
              "  <style>\n",
              "    .colab-df-container {\n",
              "      display:flex;\n",
              "      flex-wrap:wrap;\n",
              "      gap: 12px;\n",
              "    }\n",
              "\n",
              "    .colab-df-convert {\n",
              "      background-color: #E8F0FE;\n",
              "      border: none;\n",
              "      border-radius: 50%;\n",
              "      cursor: pointer;\n",
              "      display: none;\n",
              "      fill: #1967D2;\n",
              "      height: 32px;\n",
              "      padding: 0 0 0 0;\n",
              "      width: 32px;\n",
              "    }\n",
              "\n",
              "    .colab-df-convert:hover {\n",
              "      background-color: #E2EBFA;\n",
              "      box-shadow: 0px 1px 2px rgba(60, 64, 67, 0.3), 0px 1px 3px 1px rgba(60, 64, 67, 0.15);\n",
              "      fill: #174EA6;\n",
              "    }\n",
              "\n",
              "    [theme=dark] .colab-df-convert {\n",
              "      background-color: #3B4455;\n",
              "      fill: #D2E3FC;\n",
              "    }\n",
              "\n",
              "    [theme=dark] .colab-df-convert:hover {\n",
              "      background-color: #434B5C;\n",
              "      box-shadow: 0px 1px 3px 1px rgba(0, 0, 0, 0.15);\n",
              "      filter: drop-shadow(0px 1px 2px rgba(0, 0, 0, 0.3));\n",
              "      fill: #FFFFFF;\n",
              "    }\n",
              "  </style>\n",
              "\n",
              "      <script>\n",
              "        const buttonEl =\n",
              "          document.querySelector('#df-1cead338-58a9-4922-89be-e91a1706795c button.colab-df-convert');\n",
              "        buttonEl.style.display =\n",
              "          google.colab.kernel.accessAllowed ? 'block' : 'none';\n",
              "\n",
              "        async function convertToInteractive(key) {\n",
              "          const element = document.querySelector('#df-1cead338-58a9-4922-89be-e91a1706795c');\n",
              "          const dataTable =\n",
              "            await google.colab.kernel.invokeFunction('convertToInteractive',\n",
              "                                                     [key], {});\n",
              "          if (!dataTable) return;\n",
              "\n",
              "          const docLinkHtml = 'Like what you see? Visit the ' +\n",
              "            '<a target=\"_blank\" href=https://colab.research.google.com/notebooks/data_table.ipynb>data table notebook</a>'\n",
              "            + ' to learn more about interactive tables.';\n",
              "          element.innerHTML = '';\n",
              "          dataTable['output_type'] = 'display_data';\n",
              "          await google.colab.output.renderOutput(dataTable, element);\n",
              "          const docLink = document.createElement('div');\n",
              "          docLink.innerHTML = docLinkHtml;\n",
              "          element.appendChild(docLink);\n",
              "        }\n",
              "      </script>\n",
              "    </div>\n",
              "  </div>\n",
              "  "
            ]
          },
          "metadata": {},
          "execution_count": 16
        }
      ]
    },
    {
      "cell_type": "markdown",
      "source": [
        "**Melihat Detail Dataset**\n",
        "\n",
        "---\n",
        "Melihat detail dataset yang digunakan dengan menggunakan describe()"
      ],
      "metadata": {
        "id": "pboNV1GuK_lL"
      }
    },
    {
      "cell_type": "code",
      "source": [
        "movies_with_ratings.describe()"
      ],
      "metadata": {
        "colab": {
          "base_uri": "https://localhost:8080/",
          "height": 300
        },
        "id": "9kao5e3HLQqs",
        "outputId": "e780272c-df9a-4a90-8ad1-1ae8d07c4809"
      },
      "execution_count": null,
      "outputs": [
        {
          "output_type": "execute_result",
          "data": {
            "text/plain": [
              "             movieId       userId       rating     timestamp\n",
              "count    7072.000000  7072.000000  7072.000000  7.072000e+03\n",
              "mean    27773.466770   173.835831     3.308046  1.190420e+09\n",
              "std     39119.853334   181.459312     1.095217  2.106644e+08\n",
              "min         1.000000     1.000000     0.500000  8.297598e+08\n",
              "25%      2464.500000    20.000000     2.500000  9.878957e+08\n",
              "50%      5387.500000    91.000000     3.500000  1.161850e+09\n",
              "75%     49278.500000   298.000000     4.000000  1.422225e+09\n",
              "max    163056.000000   610.000000     5.000000  1.537108e+09"
            ],
            "text/html": [
              "\n",
              "  <div id=\"df-1ebfc5a0-a1bc-4353-b3aa-d01dd08d2938\">\n",
              "    <div class=\"colab-df-container\">\n",
              "      <div>\n",
              "<style scoped>\n",
              "    .dataframe tbody tr th:only-of-type {\n",
              "        vertical-align: middle;\n",
              "    }\n",
              "\n",
              "    .dataframe tbody tr th {\n",
              "        vertical-align: top;\n",
              "    }\n",
              "\n",
              "    .dataframe thead th {\n",
              "        text-align: right;\n",
              "    }\n",
              "</style>\n",
              "<table border=\"1\" class=\"dataframe\">\n",
              "  <thead>\n",
              "    <tr style=\"text-align: right;\">\n",
              "      <th></th>\n",
              "      <th>movieId</th>\n",
              "      <th>userId</th>\n",
              "      <th>rating</th>\n",
              "      <th>timestamp</th>\n",
              "    </tr>\n",
              "  </thead>\n",
              "  <tbody>\n",
              "    <tr>\n",
              "      <th>count</th>\n",
              "      <td>7072.000000</td>\n",
              "      <td>7072.000000</td>\n",
              "      <td>7072.000000</td>\n",
              "      <td>7.072000e+03</td>\n",
              "    </tr>\n",
              "    <tr>\n",
              "      <th>mean</th>\n",
              "      <td>27773.466770</td>\n",
              "      <td>173.835831</td>\n",
              "      <td>3.308046</td>\n",
              "      <td>1.190420e+09</td>\n",
              "    </tr>\n",
              "    <tr>\n",
              "      <th>std</th>\n",
              "      <td>39119.853334</td>\n",
              "      <td>181.459312</td>\n",
              "      <td>1.095217</td>\n",
              "      <td>2.106644e+08</td>\n",
              "    </tr>\n",
              "    <tr>\n",
              "      <th>min</th>\n",
              "      <td>1.000000</td>\n",
              "      <td>1.000000</td>\n",
              "      <td>0.500000</td>\n",
              "      <td>8.297598e+08</td>\n",
              "    </tr>\n",
              "    <tr>\n",
              "      <th>25%</th>\n",
              "      <td>2464.500000</td>\n",
              "      <td>20.000000</td>\n",
              "      <td>2.500000</td>\n",
              "      <td>9.878957e+08</td>\n",
              "    </tr>\n",
              "    <tr>\n",
              "      <th>50%</th>\n",
              "      <td>5387.500000</td>\n",
              "      <td>91.000000</td>\n",
              "      <td>3.500000</td>\n",
              "      <td>1.161850e+09</td>\n",
              "    </tr>\n",
              "    <tr>\n",
              "      <th>75%</th>\n",
              "      <td>49278.500000</td>\n",
              "      <td>298.000000</td>\n",
              "      <td>4.000000</td>\n",
              "      <td>1.422225e+09</td>\n",
              "    </tr>\n",
              "    <tr>\n",
              "      <th>max</th>\n",
              "      <td>163056.000000</td>\n",
              "      <td>610.000000</td>\n",
              "      <td>5.000000</td>\n",
              "      <td>1.537108e+09</td>\n",
              "    </tr>\n",
              "  </tbody>\n",
              "</table>\n",
              "</div>\n",
              "      <button class=\"colab-df-convert\" onclick=\"convertToInteractive('df-1ebfc5a0-a1bc-4353-b3aa-d01dd08d2938')\"\n",
              "              title=\"Convert this dataframe to an interactive table.\"\n",
              "              style=\"display:none;\">\n",
              "        \n",
              "  <svg xmlns=\"http://www.w3.org/2000/svg\" height=\"24px\"viewBox=\"0 0 24 24\"\n",
              "       width=\"24px\">\n",
              "    <path d=\"M0 0h24v24H0V0z\" fill=\"none\"/>\n",
              "    <path d=\"M18.56 5.44l.94 2.06.94-2.06 2.06-.94-2.06-.94-.94-2.06-.94 2.06-2.06.94zm-11 1L8.5 8.5l.94-2.06 2.06-.94-2.06-.94L8.5 2.5l-.94 2.06-2.06.94zm10 10l.94 2.06.94-2.06 2.06-.94-2.06-.94-.94-2.06-.94 2.06-2.06.94z\"/><path d=\"M17.41 7.96l-1.37-1.37c-.4-.4-.92-.59-1.43-.59-.52 0-1.04.2-1.43.59L10.3 9.45l-7.72 7.72c-.78.78-.78 2.05 0 2.83L4 21.41c.39.39.9.59 1.41.59.51 0 1.02-.2 1.41-.59l7.78-7.78 2.81-2.81c.8-.78.8-2.07 0-2.86zM5.41 20L4 18.59l7.72-7.72 1.47 1.35L5.41 20z\"/>\n",
              "  </svg>\n",
              "      </button>\n",
              "      \n",
              "  <style>\n",
              "    .colab-df-container {\n",
              "      display:flex;\n",
              "      flex-wrap:wrap;\n",
              "      gap: 12px;\n",
              "    }\n",
              "\n",
              "    .colab-df-convert {\n",
              "      background-color: #E8F0FE;\n",
              "      border: none;\n",
              "      border-radius: 50%;\n",
              "      cursor: pointer;\n",
              "      display: none;\n",
              "      fill: #1967D2;\n",
              "      height: 32px;\n",
              "      padding: 0 0 0 0;\n",
              "      width: 32px;\n",
              "    }\n",
              "\n",
              "    .colab-df-convert:hover {\n",
              "      background-color: #E2EBFA;\n",
              "      box-shadow: 0px 1px 2px rgba(60, 64, 67, 0.3), 0px 1px 3px 1px rgba(60, 64, 67, 0.15);\n",
              "      fill: #174EA6;\n",
              "    }\n",
              "\n",
              "    [theme=dark] .colab-df-convert {\n",
              "      background-color: #3B4455;\n",
              "      fill: #D2E3FC;\n",
              "    }\n",
              "\n",
              "    [theme=dark] .colab-df-convert:hover {\n",
              "      background-color: #434B5C;\n",
              "      box-shadow: 0px 1px 3px 1px rgba(0, 0, 0, 0.15);\n",
              "      filter: drop-shadow(0px 1px 2px rgba(0, 0, 0, 0.3));\n",
              "      fill: #FFFFFF;\n",
              "    }\n",
              "  </style>\n",
              "\n",
              "      <script>\n",
              "        const buttonEl =\n",
              "          document.querySelector('#df-1ebfc5a0-a1bc-4353-b3aa-d01dd08d2938 button.colab-df-convert');\n",
              "        buttonEl.style.display =\n",
              "          google.colab.kernel.accessAllowed ? 'block' : 'none';\n",
              "\n",
              "        async function convertToInteractive(key) {\n",
              "          const element = document.querySelector('#df-1ebfc5a0-a1bc-4353-b3aa-d01dd08d2938');\n",
              "          const dataTable =\n",
              "            await google.colab.kernel.invokeFunction('convertToInteractive',\n",
              "                                                     [key], {});\n",
              "          if (!dataTable) return;\n",
              "\n",
              "          const docLinkHtml = 'Like what you see? Visit the ' +\n",
              "            '<a target=\"_blank\" href=https://colab.research.google.com/notebooks/data_table.ipynb>data table notebook</a>'\n",
              "            + ' to learn more about interactive tables.';\n",
              "          element.innerHTML = '';\n",
              "          dataTable['output_type'] = 'display_data';\n",
              "          await google.colab.output.renderOutput(dataTable, element);\n",
              "          const docLink = document.createElement('div');\n",
              "          docLink.innerHTML = docLinkHtml;\n",
              "          element.appendChild(docLink);\n",
              "        }\n",
              "      </script>\n",
              "    </div>\n",
              "  </div>\n",
              "  "
            ]
          },
          "metadata": {},
          "execution_count": 12
        }
      ]
    },
    {
      "cell_type": "markdown",
      "source": [
        "**Mencari Outliers**\n",
        "\n",
        "---\n",
        "Untuk mencari data yang bias pada set, kita akan mencari outliers pada variabel rating. Alasannya, karena variable rating memungkinkan adanya penilaian yang bias terhadap kualitas suatu film."
      ],
      "metadata": {
        "id": "7_t5FnPxLUjU"
      }
    },
    {
      "cell_type": "code",
      "source": [
        "sns.boxplot(x=movies_with_ratings['rating'])"
      ],
      "metadata": {
        "colab": {
          "base_uri": "https://localhost:8080/",
          "height": 466
        },
        "id": "-EcR1soYLZ-y",
        "outputId": "a4daebc2-67d5-40e3-afa4-ecda775752b8"
      },
      "execution_count": null,
      "outputs": [
        {
          "output_type": "execute_result",
          "data": {
            "text/plain": [
              "<Axes: xlabel='rating'>"
            ]
          },
          "metadata": {},
          "execution_count": 16
        },
        {
          "output_type": "display_data",
          "data": {
            "text/plain": [
              "<Figure size 640x480 with 1 Axes>"
            ],
            "image/png": "[encoded data removed]"
          },
          "metadata": {}
        }
      ]
    },
    {
      "cell_type": "markdown",
      "source": [
        "**Visualisasi Data**\n",
        "\n",
        "---\n",
        "Melakukan visualisasi data untuk melihat komposisi data pada variabel rating."
      ],
      "metadata": {
        "id": "TYFwIuOpLyo-"
      }
    },
    {
      "cell_type": "code",
      "source": [
        "count = movies_with_ratings['rating'].value_counts()\n",
        "percent = 100*movies_with_ratings['rating'].value_counts(normalize=True)\n",
        "df = pd.DataFrame({'jumlah sampel':count, 'persentase':percent.round(1)})\n",
        "print(df)\n",
        "movies_with_ratings['rating'].hist(bins=20, figsize=(5,5))"
      ],
      "metadata": {
        "colab": {
          "base_uri": "https://localhost:8080/",
          "height": 653
        },
        "id": "mBfgLmYXL4Y7",
        "outputId": "1a1c12c1-a467-494c-f58b-13a8e6d75c06"
      },
      "execution_count": null,
      "outputs": [
        {
          "output_type": "stream",
          "name": "stdout",
          "text": [
            "     jumlah sampel  persentase\n",
            "4.0           1661        23.5\n",
            "3.0           1445        20.4\n",
            "3.5            955        13.5\n",
            "2.0            768        10.9\n",
            "5.0            730        10.3\n",
            "4.5            486         6.9\n",
            "2.5            435         6.2\n",
            "1.0            285         4.0\n",
            "1.5            174         2.5\n",
            "0.5            133         1.9\n"
          ]
        },
        {
          "output_type": "execute_result",
          "data": {
            "text/plain": [
              "<Axes: >"
            ]
          },
          "metadata": {},
          "execution_count": 17
        },
        {
          "output_type": "display_data",
          "data": {
            "text/plain": [
              "<Figure size 500x500 with 1 Axes>"
            ],
            "image/png": "[encoded data removed]"
          },
          "metadata": {}
        }
      ]
    },
    {
      "cell_type": "markdown",
      "source": [
        "**Membuat Data List Untuk Input Sistem Rekomendasi Content Based Filtering**\n",
        "\n",
        "---\n",
        "Untuk membuat sistem rekomendasi content based filtering, maka dibuat list yang berasal dari variabel movieId, title, genres.\n"
      ],
      "metadata": {
        "id": "KqW8U7XmJUTB"
      }
    },
    {
      "cell_type": "code",
      "source": [
        "movieId = movies_with_ratings['movieId'].tolist()\n",
        "title = movies_with_ratings['title'].tolist()\n",
        "genres = movies_with_ratings['genres'].tolist()\n",
        "\n",
        "print(len(movieId))\n",
        "print(len(title))\n",
        "print(len(genres))"
      ],
      "metadata": {
        "colab": {
          "base_uri": "https://localhost:8080/"
        },
        "id": "ou5XplcgODm9",
        "outputId": "646e1054-10f5-4ab4-9e65-042523e3d429"
      },
      "execution_count": null,
      "outputs": [
        {
          "output_type": "stream",
          "name": "stdout",
          "text": [
            "7072\n",
            "7072\n",
            "7072\n"
          ]
        }
      ]
    },
    {
      "cell_type": "markdown",
      "source": [
        "**Membuat Dataframe dari List**\n",
        "\n",
        "---\n",
        "Membuat dataframe untuk sistem rekomendasi content based filtering dari list movieId, title dan genres.\n"
      ],
      "metadata": {
        "id": "cl6csKpsdBjv"
      }
    },
    {
      "cell_type": "code",
      "source": [
        "movie_content = pd.DataFrame({\n",
        "    'id': movieId,\n",
        "    'title': title,\n",
        "    'genres': genres\n",
        "})\n",
        "movie_content"
      ],
      "metadata": {
        "colab": {
          "base_uri": "https://localhost:8080/",
          "height": 424
        },
        "id": "2zCS09B5QaSN",
        "outputId": "4de16ed3-acd9-4176-970d-d30645b383f9"
      },
      "execution_count": null,
      "outputs": [
        {
          "output_type": "execute_result",
          "data": {
            "text/plain": [
              "          id                                 title  \\\n",
              "0          1                      Toy Story (1995)   \n",
              "1          2                        Jumanji (1995)   \n",
              "2          3               Grumpier Old Men (1995)   \n",
              "3          4              Waiting to Exhale (1995)   \n",
              "4          5    Father of the Bride Part II (1995)   \n",
              "...      ...                                   ...   \n",
              "7067  161582             Hell or High Water (2016)   \n",
              "7068  161594  Kingsglaive: Final Fantasy XV (2016)   \n",
              "7069  161830                           Body (2015)   \n",
              "7070  161918   Sharknado 4: The 4th Awakens (2016)   \n",
              "7071  163056                  Shin Godzilla (2016)   \n",
              "\n",
              "                                               genres  \n",
              "0         Adventure|Animation|Children|Comedy|Fantasy  \n",
              "1                          Adventure|Children|Fantasy  \n",
              "2                                      Comedy|Romance  \n",
              "3                                Comedy|Drama|Romance  \n",
              "4                                              Comedy  \n",
              "...                                               ...  \n",
              "7067                                      Crime|Drama  \n",
              "7068  Action|Adventure|Animation|Drama|Fantasy|Sci-Fi  \n",
              "7069                            Drama|Horror|Thriller  \n",
              "7070                   Action|Adventure|Horror|Sci-Fi  \n",
              "7071                  Action|Adventure|Fantasy|Sci-Fi  \n",
              "\n",
              "[7072 rows x 3 columns]"
            ],
            "text/html": [
              "\n",
              "  <div id=\"df-0da5e50a-fe38-4f43-8d16-a2aaaa1f7256\">\n",
              "    <div class=\"colab-df-container\">\n",
              "      <div>\n",
              "<style scoped>\n",
              "    .dataframe tbody tr th:only-of-type {\n",
              "        vertical-align: middle;\n",
              "    }\n",
              "\n",
              "    .dataframe tbody tr th {\n",
              "        vertical-align: top;\n",
              "    }\n",
              "\n",
              "    .dataframe thead th {\n",
              "        text-align: right;\n",
              "    }\n",
              "</style>\n",
              "<table border=\"1\" class=\"dataframe\">\n",
              "  <thead>\n",
              "    <tr style=\"text-align: right;\">\n",
              "      <th></th>\n",
              "      <th>id</th>\n",
              "      <th>title</th>\n",
              "      <th>genres</th>\n",
              "    </tr>\n",
              "  </thead>\n",
              "  <tbody>\n",
              "    <tr>\n",
              "      <th>0</th>\n",
              "      <td>1</td>\n",
              "      <td>Toy Story (1995)</td>\n",
              "      <td>Adventure|Animation|Children|Comedy|Fantasy</td>\n",
              "    </tr>\n",
              "    <tr>\n",
              "      <th>1</th>\n",
              "      <td>2</td>\n",
              "      <td>Jumanji (1995)</td>\n",
              "      <td>Adventure|Children|Fantasy</td>\n",
              "    </tr>\n",
              "    <tr>\n",
              "      <th>2</th>\n",
              "      <td>3</td>\n",
              "      <td>Grumpier Old Men (1995)</td>\n",
              "      <td>Comedy|Romance</td>\n",
              "    </tr>\n",
              "    <tr>\n",
              "      <th>3</th>\n",
              "      <td>4</td>\n",
              "      <td>Waiting to Exhale (1995)</td>\n",
              "      <td>Comedy|Drama|Romance</td>\n",
              "    </tr>\n",
              "    <tr>\n",
              "      <th>4</th>\n",
              "      <td>5</td>\n",
              "      <td>Father of the Bride Part II (1995)</td>\n",
              "      <td>Comedy</td>\n",
              "    </tr>\n",
              "    <tr>\n",
              "      <th>...</th>\n",
              "      <td>...</td>\n",
              "      <td>...</td>\n",
              "      <td>...</td>\n",
              "    </tr>\n",
              "    <tr>\n",
              "      <th>7067</th>\n",
              "      <td>161582</td>\n",
              "      <td>Hell or High Water (2016)</td>\n",
              "      <td>Crime|Drama</td>\n",
              "    </tr>\n",
              "    <tr>\n",
              "      <th>7068</th>\n",
              "      <td>161594</td>\n",
              "      <td>Kingsglaive: Final Fantasy XV (2016)</td>\n",
              "      <td>Action|Adventure|Animation|Drama|Fantasy|Sci-Fi</td>\n",
              "    </tr>\n",
              "    <tr>\n",
              "      <th>7069</th>\n",
              "      <td>161830</td>\n",
              "      <td>Body (2015)</td>\n",
              "      <td>Drama|Horror|Thriller</td>\n",
              "    </tr>\n",
              "    <tr>\n",
              "      <th>7070</th>\n",
              "      <td>161918</td>\n",
              "      <td>Sharknado 4: The 4th Awakens (2016)</td>\n",
              "      <td>Action|Adventure|Horror|Sci-Fi</td>\n",
              "    </tr>\n",
              "    <tr>\n",
              "      <th>7071</th>\n",
              "      <td>163056</td>\n",
              "      <td>Shin Godzilla (2016)</td>\n",
              "      <td>Action|Adventure|Fantasy|Sci-Fi</td>\n",
              "    </tr>\n",
              "  </tbody>\n",
              "</table>\n",
              "<p>7072 rows × 3 columns</p>\n",
              "</div>\n",
              "      <button class=\"colab-df-convert\" onclick=\"convertToInteractive('df-0da5e50a-fe38-4f43-8d16-a2aaaa1f7256')\"\n",
              "              title=\"Convert this dataframe to an interactive table.\"\n",
              "              style=\"display:none;\">\n",
              "        \n",
              "  <svg xmlns=\"http://www.w3.org/2000/svg\" height=\"24px\"viewBox=\"0 0 24 24\"\n",
              "       width=\"24px\">\n",
              "    <path d=\"M0 0h24v24H0V0z\" fill=\"none\"/>\n",
              "    <path d=\"M18.56 5.44l.94 2.06.94-2.06 2.06-.94-2.06-.94-.94-2.06-.94 2.06-2.06.94zm-11 1L8.5 8.5l.94-2.06 2.06-.94-2.06-.94L8.5 2.5l-.94 2.06-2.06.94zm10 10l.94 2.06.94-2.06 2.06-.94-2.06-.94-.94-2.06-.94 2.06-2.06.94z\"/><path d=\"M17.41 7.96l-1.37-1.37c-.4-.4-.92-.59-1.43-.59-.52 0-1.04.2-1.43.59L10.3 9.45l-7.72 7.72c-.78.78-.78 2.05 0 2.83L4 21.41c.39.39.9.59 1.41.59.51 0 1.02-.2 1.41-.59l7.78-7.78 2.81-2.81c.8-.78.8-2.07 0-2.86zM5.41 20L4 18.59l7.72-7.72 1.47 1.35L5.41 20z\"/>\n",
              "  </svg>\n",
              "      </button>\n",
              "      \n",
              "  <style>\n",
              "    .colab-df-container {\n",
              "      display:flex;\n",
              "      flex-wrap:wrap;\n",
              "      gap: 12px;\n",
              "    }\n",
              "\n",
              "    .colab-df-convert {\n",
              "      background-color: #E8F0FE;\n",
              "      border: none;\n",
              "      border-radius: 50%;\n",
              "      cursor: pointer;\n",
              "      display: none;\n",
              "      fill: #1967D2;\n",
              "      height: 32px;\n",
              "      padding: 0 0 0 0;\n",
              "      width: 32px;\n",
              "    }\n",
              "\n",
              "    .colab-df-convert:hover {\n",
              "      background-color: #E2EBFA;\n",
              "      box-shadow: 0px 1px 2px rgba(60, 64, 67, 0.3), 0px 1px 3px 1px rgba(60, 64, 67, 0.15);\n",
              "      fill: #174EA6;\n",
              "    }\n",
              "\n",
              "    [theme=dark] .colab-df-convert {\n",
              "      background-color: #3B4455;\n",
              "      fill: #D2E3FC;\n",
              "    }\n",
              "\n",
              "    [theme=dark] .colab-df-convert:hover {\n",
              "      background-color: #434B5C;\n",
              "      box-shadow: 0px 1px 3px 1px rgba(0, 0, 0, 0.15);\n",
              "      filter: drop-shadow(0px 1px 2px rgba(0, 0, 0, 0.3));\n",
              "      fill: #FFFFFF;\n",
              "    }\n",
              "  </style>\n",
              "\n",
              "      <script>\n",
              "        const buttonEl =\n",
              "          document.querySelector('#df-0da5e50a-fe38-4f43-8d16-a2aaaa1f7256 button.colab-df-convert');\n",
              "        buttonEl.style.display =\n",
              "          google.colab.kernel.accessAllowed ? 'block' : 'none';\n",
              "\n",
              "        async function convertToInteractive(key) {\n",
              "          const element = document.querySelector('#df-0da5e50a-fe38-4f43-8d16-a2aaaa1f7256');\n",
              "          const dataTable =\n",
              "            await google.colab.kernel.invokeFunction('convertToInteractive',\n",
              "                                                     [key], {});\n",
              "          if (!dataTable) return;\n",
              "\n",
              "          const docLinkHtml = 'Like what you see? Visit the ' +\n",
              "            '<a target=\"_blank\" href=https://colab.research.google.com/notebooks/data_table.ipynb>data table notebook</a>'\n",
              "            + ' to learn more about interactive tables.';\n",
              "          element.innerHTML = '';\n",
              "          dataTable['output_type'] = 'display_data';\n",
              "          await google.colab.output.renderOutput(dataTable, element);\n",
              "          const docLink = document.createElement('div');\n",
              "          docLink.innerHTML = docLinkHtml;\n",
              "          element.appendChild(docLink);\n",
              "        }\n",
              "      </script>\n",
              "    </div>\n",
              "  </div>\n",
              "  "
            ]
          },
          "metadata": {},
          "execution_count": 18
        }
      ]
    },
    {
      "cell_type": "markdown",
      "source": [
        "**Menggunakan TF-IDF Vectorizer**\n",
        "\n",
        "---\n",
        "Menggunakan TF-IDF Vectorizer untuk proses pembobotan nilai.\n"
      ],
      "metadata": {
        "id": "2Bt3E_INdaaj"
      }
    },
    {
      "cell_type": "code",
      "source": [
        "# Inisialisasi penggunaan TF-IDF Vectorizer\n",
        "tf = TfidfVectorizer()\n",
        "\n",
        "# Mempelajari kata yang terdapat pada movie_content['Genres']\n",
        "tf.fit(movie_content['genres'])\n",
        "\n",
        "# Tampilkan kata-kata yang telah dipelajari\n",
        "tf.get_feature_names_out()"
      ],
      "metadata": {
        "colab": {
          "base_uri": "https://localhost:8080/"
        },
        "id": "NwIvVw7YQqpc",
        "outputId": "f029e91e-c8ef-40ed-9426-f06e25c9cb07"
      },
      "execution_count": null,
      "outputs": [
        {
          "output_type": "execute_result",
          "data": {
            "text/plain": [
              "array(['action', 'adventure', 'animation', 'children', 'comedy', 'crime',\n",
              "       'documentary', 'drama', 'fantasy', 'fi', 'film', 'genres',\n",
              "       'horror', 'imax', 'listed', 'musical', 'mystery', 'no', 'noir',\n",
              "       'romance', 'sci', 'thriller', 'war', 'western'], dtype=object)"
            ]
          },
          "metadata": {},
          "execution_count": 16
        }
      ]
    },
    {
      "cell_type": "markdown",
      "source": [
        "**Melakukan Data Fit dan Mengubah kedalam Bentuk Matrix**\n",
        "\n",
        "---\n",
        "Melakukan Data Fit hasil TF-IDF dan Mengubah kedalam Bentuk Matrix.\n"
      ],
      "metadata": {
        "id": "V5juqXlnkPKu"
      }
    },
    {
      "cell_type": "code",
      "source": [
        "# Melakukan fit lalu ditransformasikan ke bentuk matrix\n",
        "tfidf_matrix = tf.fit_transform(movie_content['genres']) \n",
        "\n",
        "# Melihat ukuran matrix tfidf\n",
        "tfidf_matrix.shape"
      ],
      "metadata": {
        "colab": {
          "base_uri": "https://localhost:8080/"
        },
        "id": "pKBGi_FUROeV",
        "outputId": "ea16197e-cb76-454e-fcc4-c6130fc6b3ad"
      },
      "execution_count": null,
      "outputs": [
        {
          "output_type": "execute_result",
          "data": {
            "text/plain": [
              "(7072, 24)"
            ]
          },
          "metadata": {},
          "execution_count": 17
        }
      ]
    },
    {
      "cell_type": "markdown",
      "source": [
        "**Mengubah Sparse Matrix Menjadi Dense Matrix**\n",
        "\n",
        "---\n",
        "Mengubah sparse Matrix ke dalam bentuk dense matrix.\n"
      ],
      "metadata": {
        "id": "GEs4NXcRlx4a"
      }
    },
    {
      "cell_type": "code",
      "source": [
        "# Mengubah vektor tf-idf dalam bentuk matriks dengan fungsi todense()\n",
        "tfidf_matrix.todense()"
      ],
      "metadata": {
        "colab": {
          "base_uri": "https://localhost:8080/"
        },
        "id": "4TKFV9nxRbTG",
        "outputId": "64fd4c56-a385-48cf-a612-8d7270ba2dfd"
      },
      "execution_count": null,
      "outputs": [
        {
          "output_type": "execute_result",
          "data": {
            "text/plain": [
              "matrix([[0.        , 0.40574538, 0.53561548, ..., 0.        , 0.        ,\n",
              "         0.        ],\n",
              "        [0.        , 0.5065915 , 0.        , ..., 0.        , 0.        ,\n",
              "         0.        ],\n",
              "        [0.        , 0.        , 0.        , ..., 0.        , 0.        ,\n",
              "         0.        ],\n",
              "        ...,\n",
              "        [0.        , 0.        , 0.        , ..., 0.56077836, 0.        ,\n",
              "         0.        ],\n",
              "        [0.37625256, 0.42520187, 0.        , ..., 0.        , 0.        ,\n",
              "         0.        ],\n",
              "        [0.37194914, 0.42033859, 0.        , ..., 0.        , 0.        ,\n",
              "         0.        ]])"
            ]
          },
          "metadata": {},
          "execution_count": 18
        }
      ]
    },
    {
      "cell_type": "markdown",
      "source": [
        "**Menampilkan Dataframe yang telah diolah**\n",
        "---\n",
        "Menampilkan dataframe yang telah dilakukan pengolahan data.\n"
      ],
      "metadata": {
        "id": "kX7OlilcmDTO"
      }
    },
    {
      "cell_type": "code",
      "source": [
        "# Menampilkan Dataframe\n",
        "pd.DataFrame(\n",
        "    tfidf_matrix.todense(), \n",
        "    columns=tf.get_feature_names_out(),\n",
        "    index=movie_content.title\n",
        ").sample(15, axis=1).sample(10, axis=0)"
      ],
      "metadata": {
        "colab": {
          "base_uri": "https://localhost:8080/",
          "height": 456
        },
        "id": "XrS6nsFkRiUz",
        "outputId": "d52d8e78-4319-48a3-affd-1e0c17488878"
      },
      "execution_count": null,
      "outputs": [
        {
          "output_type": "execute_result",
          "data": {
            "text/plain": [
              "                                                    western        fi   no  \\\n",
              "title                                                                        \n",
              "Foxfire (1996)                                          0.0  0.000000  0.0   \n",
              "Howard the Duck (1986)                                  0.0  0.562742  0.0   \n",
              "Belle époque (1992)                                     0.0  0.000000  0.0   \n",
              "Rush Hour 3 (2007)                                      0.0  0.000000  0.0   \n",
              "Funny Games U.S. (2007)                                 0.0  0.000000  0.0   \n",
              "Georgia (1995)                                          0.0  0.000000  0.0   \n",
              "Invisible Man, The (1933)                               0.0  0.575068  0.0   \n",
              "Boyz N the Hood (1991)                                  0.0  0.000000  0.0   \n",
              "Final Conflict, The (a.k.a. Omen III: The Final...      0.0  0.000000  0.0   \n",
              "Suburban Commando (1991)                                0.0  0.652189  0.0   \n",
              "\n",
              "                                                    listed  adventure  \\\n",
              "title                                                                   \n",
              "Foxfire (1996)                                         0.0    0.00000   \n",
              "Howard the Duck (1986)                                 0.0    0.50546   \n",
              "Belle époque (1992)                                    0.0    0.00000   \n",
              "Rush Hour 3 (2007)                                     0.0    0.00000   \n",
              "Funny Games U.S. (2007)                                0.0    0.00000   \n",
              "Georgia (1995)                                         0.0    0.00000   \n",
              "Invisible Man, The (1933)                              0.0    0.00000   \n",
              "Boyz N the Hood (1991)                                 0.0    0.00000   \n",
              "Final Conflict, The (a.k.a. Omen III: The Final...     0.0    0.00000   \n",
              "Suburban Commando (1991)                               0.0    0.00000   \n",
              "\n",
              "                                                    thriller    comedy  imax  \\\n",
              "title                                                                          \n",
              "Foxfire (1996)                                      0.000000  0.000000   0.0   \n",
              "Howard the Duck (1986)                              0.000000  0.333397   0.0   \n",
              "Belle époque (1992)                                 0.000000  0.582803   0.0   \n",
              "Rush Hour 3 (2007)                                  0.497300  0.380388   0.0   \n",
              "Funny Games U.S. (2007)                             0.823876  0.000000   0.0   \n",
              "Georgia (1995)                                      0.000000  0.000000   0.0   \n",
              "Invisible Man, The (1933)                           0.000000  0.000000   0.0   \n",
              "Boyz N the Hood (1991)                              0.000000  0.000000   0.0   \n",
              "Final Conflict, The (a.k.a. Omen III: The Final...  0.607829  0.000000   0.0   \n",
              "Suburban Commando (1991)                            0.000000  0.386391   0.0   \n",
              "\n",
              "                                                    animation  children  \\\n",
              "title                                                                     \n",
              "Foxfire (1996)                                            0.0       0.0   \n",
              "Howard the Duck (1986)                                    0.0       0.0   \n",
              "Belle époque (1992)                                       0.0       0.0   \n",
              "Rush Hour 3 (2007)                                        0.0       0.0   \n",
              "Funny Games U.S. (2007)                                   0.0       0.0   \n",
              "Georgia (1995)                                            0.0       0.0   \n",
              "Invisible Man, The (1933)                                 0.0       0.0   \n",
              "Boyz N the Hood (1991)                                    0.0       0.0   \n",
              "Final Conflict, The (a.k.a. Omen III: The Final...        0.0       0.0   \n",
              "Suburban Commando (1991)                                  0.0       0.0   \n",
              "\n",
              "                                                         sci   romance  noir  \\\n",
              "title                                                                          \n",
              "Foxfire (1996)                                      0.000000  0.000000   0.0   \n",
              "Howard the Duck (1986)                              0.562742  0.000000   0.0   \n",
              "Belle époque (1992)                                 0.000000  0.812613   0.0   \n",
              "Rush Hour 3 (2007)                                  0.000000  0.000000   0.0   \n",
              "Funny Games U.S. (2007)                             0.000000  0.000000   0.0   \n",
              "Georgia (1995)                                      0.000000  0.000000   0.0   \n",
              "Invisible Man, The (1933)                           0.575068  0.000000   0.0   \n",
              "Boyz N the Hood (1991)                              0.000000  0.000000   0.0   \n",
              "Final Conflict, The (a.k.a. Omen III: The Final...  0.000000  0.000000   0.0   \n",
              "Suburban Commando (1991)                            0.652189  0.000000   0.0   \n",
              "\n",
              "                                                      action  film  \n",
              "title                                                               \n",
              "Foxfire (1996)                                      0.000000   0.0  \n",
              "Howard the Duck (1986)                              0.000000   0.0  \n",
              "Belle époque (1992)                                 0.000000   0.0  \n",
              "Rush Hour 3 (2007)                                  0.510312   0.0  \n",
              "Funny Games U.S. (2007)                             0.000000   0.0  \n",
              "Georgia (1995)                                      0.000000   0.0  \n",
              "Invisible Man, The (1933)                           0.000000   0.0  \n",
              "Boyz N the Hood (1991)                              0.000000   0.0  \n",
              "Final Conflict, The (a.k.a. Omen III: The Final...  0.000000   0.0  \n",
              "Suburban Commando (1991)                            0.000000   0.0  "
            ],
            "text/html": [
              "\n",
              "  <div id=\"df-3ae3a64d-3f48-46d2-96fc-533a1f45b896\">\n",
              "    <div class=\"colab-df-container\">\n",
              "      <div>\n",
              "<style scoped>\n",
              "    .dataframe tbody tr th:only-of-type {\n",
              "        vertical-align: middle;\n",
              "    }\n",
              "\n",
              "    .dataframe tbody tr th {\n",
              "        vertical-align: top;\n",
              "    }\n",
              "\n",
              "    .dataframe thead th {\n",
              "        text-align: right;\n",
              "    }\n",
              "</style>\n",
              "<table border=\"1\" class=\"dataframe\">\n",
              "  <thead>\n",
              "    <tr style=\"text-align: right;\">\n",
              "      <th></th>\n",
              "      <th>western</th>\n",
              "      <th>fi</th>\n",
              "      <th>no</th>\n",
              "      <th>listed</th>\n",
              "      <th>adventure</th>\n",
              "      <th>thriller</th>\n",
              "      <th>comedy</th>\n",
              "      <th>imax</th>\n",
              "      <th>animation</th>\n",
              "      <th>children</th>\n",
              "      <th>sci</th>\n",
              "      <th>romance</th>\n",
              "      <th>noir</th>\n",
              "      <th>action</th>\n",
              "      <th>film</th>\n",
              "    </tr>\n",
              "    <tr>\n",
              "      <th>title</th>\n",
              "      <th></th>\n",
              "      <th></th>\n",
              "      <th></th>\n",
              "      <th></th>\n",
              "      <th></th>\n",
              "      <th></th>\n",
              "      <th></th>\n",
              "      <th></th>\n",
              "      <th></th>\n",
              "      <th></th>\n",
              "      <th></th>\n",
              "      <th></th>\n",
              "      <th></th>\n",
              "      <th></th>\n",
              "      <th></th>\n",
              "    </tr>\n",
              "  </thead>\n",
              "  <tbody>\n",
              "    <tr>\n",
              "      <th>Foxfire (1996)</th>\n",
              "      <td>0.0</td>\n",
              "      <td>0.000000</td>\n",
              "      <td>0.0</td>\n",
              "      <td>0.0</td>\n",
              "      <td>0.00000</td>\n",
              "      <td>0.000000</td>\n",
              "      <td>0.000000</td>\n",
              "      <td>0.0</td>\n",
              "      <td>0.0</td>\n",
              "      <td>0.0</td>\n",
              "      <td>0.000000</td>\n",
              "      <td>0.000000</td>\n",
              "      <td>0.0</td>\n",
              "      <td>0.000000</td>\n",
              "      <td>0.0</td>\n",
              "    </tr>\n",
              "    <tr>\n",
              "      <th>Howard the Duck (1986)</th>\n",
              "      <td>0.0</td>\n",
              "      <td>0.562742</td>\n",
              "      <td>0.0</td>\n",
              "      <td>0.0</td>\n",
              "      <td>0.50546</td>\n",
              "      <td>0.000000</td>\n",
              "      <td>0.333397</td>\n",
              "      <td>0.0</td>\n",
              "      <td>0.0</td>\n",
              "      <td>0.0</td>\n",
              "      <td>0.562742</td>\n",
              "      <td>0.000000</td>\n",
              "      <td>0.0</td>\n",
              "      <td>0.000000</td>\n",
              "      <td>0.0</td>\n",
              "    </tr>\n",
              "    <tr>\n",
              "      <th>Belle époque (1992)</th>\n",
              "      <td>0.0</td>\n",
              "      <td>0.000000</td>\n",
              "      <td>0.0</td>\n",
              "      <td>0.0</td>\n",
              "      <td>0.00000</td>\n",
              "      <td>0.000000</td>\n",
              "      <td>0.582803</td>\n",
              "      <td>0.0</td>\n",
              "      <td>0.0</td>\n",
              "      <td>0.0</td>\n",
              "      <td>0.000000</td>\n",
              "      <td>0.812613</td>\n",
              "      <td>0.0</td>\n",
              "      <td>0.000000</td>\n",
              "      <td>0.0</td>\n",
              "    </tr>\n",
              "    <tr>\n",
              "      <th>Rush Hour 3 (2007)</th>\n",
              "      <td>0.0</td>\n",
              "      <td>0.000000</td>\n",
              "      <td>0.0</td>\n",
              "      <td>0.0</td>\n",
              "      <td>0.00000</td>\n",
              "      <td>0.497300</td>\n",
              "      <td>0.380388</td>\n",
              "      <td>0.0</td>\n",
              "      <td>0.0</td>\n",
              "      <td>0.0</td>\n",
              "      <td>0.000000</td>\n",
              "      <td>0.000000</td>\n",
              "      <td>0.0</td>\n",
              "      <td>0.510312</td>\n",
              "      <td>0.0</td>\n",
              "    </tr>\n",
              "    <tr>\n",
              "      <th>Funny Games U.S. (2007)</th>\n",
              "      <td>0.0</td>\n",
              "      <td>0.000000</td>\n",
              "      <td>0.0</td>\n",
              "      <td>0.0</td>\n",
              "      <td>0.00000</td>\n",
              "      <td>0.823876</td>\n",
              "      <td>0.000000</td>\n",
              "      <td>0.0</td>\n",
              "      <td>0.0</td>\n",
              "      <td>0.0</td>\n",
              "      <td>0.000000</td>\n",
              "      <td>0.000000</td>\n",
              "      <td>0.0</td>\n",
              "      <td>0.000000</td>\n",
              "      <td>0.0</td>\n",
              "    </tr>\n",
              "    <tr>\n",
              "      <th>Georgia (1995)</th>\n",
              "      <td>0.0</td>\n",
              "      <td>0.000000</td>\n",
              "      <td>0.0</td>\n",
              "      <td>0.0</td>\n",
              "      <td>0.00000</td>\n",
              "      <td>0.000000</td>\n",
              "      <td>0.000000</td>\n",
              "      <td>0.0</td>\n",
              "      <td>0.0</td>\n",
              "      <td>0.0</td>\n",
              "      <td>0.000000</td>\n",
              "      <td>0.000000</td>\n",
              "      <td>0.0</td>\n",
              "      <td>0.000000</td>\n",
              "      <td>0.0</td>\n",
              "    </tr>\n",
              "    <tr>\n",
              "      <th>Invisible Man, The (1933)</th>\n",
              "      <td>0.0</td>\n",
              "      <td>0.575068</td>\n",
              "      <td>0.0</td>\n",
              "      <td>0.0</td>\n",
              "      <td>0.00000</td>\n",
              "      <td>0.000000</td>\n",
              "      <td>0.000000</td>\n",
              "      <td>0.0</td>\n",
              "      <td>0.0</td>\n",
              "      <td>0.0</td>\n",
              "      <td>0.575068</td>\n",
              "      <td>0.000000</td>\n",
              "      <td>0.0</td>\n",
              "      <td>0.000000</td>\n",
              "      <td>0.0</td>\n",
              "    </tr>\n",
              "    <tr>\n",
              "      <th>Boyz N the Hood (1991)</th>\n",
              "      <td>0.0</td>\n",
              "      <td>0.000000</td>\n",
              "      <td>0.0</td>\n",
              "      <td>0.0</td>\n",
              "      <td>0.00000</td>\n",
              "      <td>0.000000</td>\n",
              "      <td>0.000000</td>\n",
              "      <td>0.0</td>\n",
              "      <td>0.0</td>\n",
              "      <td>0.0</td>\n",
              "      <td>0.000000</td>\n",
              "      <td>0.000000</td>\n",
              "      <td>0.0</td>\n",
              "      <td>0.000000</td>\n",
              "      <td>0.0</td>\n",
              "    </tr>\n",
              "    <tr>\n",
              "      <th>Final Conflict, The (a.k.a. Omen III: The Final Conflict) (1981)</th>\n",
              "      <td>0.0</td>\n",
              "      <td>0.000000</td>\n",
              "      <td>0.0</td>\n",
              "      <td>0.0</td>\n",
              "      <td>0.00000</td>\n",
              "      <td>0.607829</td>\n",
              "      <td>0.000000</td>\n",
              "      <td>0.0</td>\n",
              "      <td>0.0</td>\n",
              "      <td>0.0</td>\n",
              "      <td>0.000000</td>\n",
              "      <td>0.000000</td>\n",
              "      <td>0.0</td>\n",
              "      <td>0.000000</td>\n",
              "      <td>0.0</td>\n",
              "    </tr>\n",
              "    <tr>\n",
              "      <th>Suburban Commando (1991)</th>\n",
              "      <td>0.0</td>\n",
              "      <td>0.652189</td>\n",
              "      <td>0.0</td>\n",
              "      <td>0.0</td>\n",
              "      <td>0.00000</td>\n",
              "      <td>0.000000</td>\n",
              "      <td>0.386391</td>\n",
              "      <td>0.0</td>\n",
              "      <td>0.0</td>\n",
              "      <td>0.0</td>\n",
              "      <td>0.652189</td>\n",
              "      <td>0.000000</td>\n",
              "      <td>0.0</td>\n",
              "      <td>0.000000</td>\n",
              "      <td>0.0</td>\n",
              "    </tr>\n",
              "  </tbody>\n",
              "</table>\n",
              "</div>\n",
              "      <button class=\"colab-df-convert\" onclick=\"convertToInteractive('df-3ae3a64d-3f48-46d2-96fc-533a1f45b896')\"\n",
              "              title=\"Convert this dataframe to an interactive table.\"\n",
              "              style=\"display:none;\">\n",
              "        \n",
              "  <svg xmlns=\"http://www.w3.org/2000/svg\" height=\"24px\"viewBox=\"0 0 24 24\"\n",
              "       width=\"24px\">\n",
              "    <path d=\"M0 0h24v24H0V0z\" fill=\"none\"/>\n",
              "    <path d=\"M18.56 5.44l.94 2.06.94-2.06 2.06-.94-2.06-.94-.94-2.06-.94 2.06-2.06.94zm-11 1L8.5 8.5l.94-2.06 2.06-.94-2.06-.94L8.5 2.5l-.94 2.06-2.06.94zm10 10l.94 2.06.94-2.06 2.06-.94-2.06-.94-.94-2.06-.94 2.06-2.06.94z\"/><path d=\"M17.41 7.96l-1.37-1.37c-.4-.4-.92-.59-1.43-.59-.52 0-1.04.2-1.43.59L10.3 9.45l-7.72 7.72c-.78.78-.78 2.05 0 2.83L4 21.41c.39.39.9.59 1.41.59.51 0 1.02-.2 1.41-.59l7.78-7.78 2.81-2.81c.8-.78.8-2.07 0-2.86zM5.41 20L4 18.59l7.72-7.72 1.47 1.35L5.41 20z\"/>\n",
              "  </svg>\n",
              "      </button>\n",
              "      \n",
              "  <style>\n",
              "    .colab-df-container {\n",
              "      display:flex;\n",
              "      flex-wrap:wrap;\n",
              "      gap: 12px;\n",
              "    }\n",
              "\n",
              "    .colab-df-convert {\n",
              "      background-color: #E8F0FE;\n",
              "      border: none;\n",
              "      border-radius: 50%;\n",
              "      cursor: pointer;\n",
              "      display: none;\n",
              "      fill: #1967D2;\n",
              "      height: 32px;\n",
              "      padding: 0 0 0 0;\n",
              "      width: 32px;\n",
              "    }\n",
              "\n",
              "    .colab-df-convert:hover {\n",
              "      background-color: #E2EBFA;\n",
              "      box-shadow: 0px 1px 2px rgba(60, 64, 67, 0.3), 0px 1px 3px 1px rgba(60, 64, 67, 0.15);\n",
              "      fill: #174EA6;\n",
              "    }\n",
              "\n",
              "    [theme=dark] .colab-df-convert {\n",
              "      background-color: #3B4455;\n",
              "      fill: #D2E3FC;\n",
              "    }\n",
              "\n",
              "    [theme=dark] .colab-df-convert:hover {\n",
              "      background-color: #434B5C;\n",
              "      box-shadow: 0px 1px 3px 1px rgba(0, 0, 0, 0.15);\n",
              "      filter: drop-shadow(0px 1px 2px rgba(0, 0, 0, 0.3));\n",
              "      fill: #FFFFFF;\n",
              "    }\n",
              "  </style>\n",
              "\n",
              "      <script>\n",
              "        const buttonEl =\n",
              "          document.querySelector('#df-3ae3a64d-3f48-46d2-96fc-533a1f45b896 button.colab-df-convert');\n",
              "        buttonEl.style.display =\n",
              "          google.colab.kernel.accessAllowed ? 'block' : 'none';\n",
              "\n",
              "        async function convertToInteractive(key) {\n",
              "          const element = document.querySelector('#df-3ae3a64d-3f48-46d2-96fc-533a1f45b896');\n",
              "          const dataTable =\n",
              "            await google.colab.kernel.invokeFunction('convertToInteractive',\n",
              "                                                     [key], {});\n",
              "          if (!dataTable) return;\n",
              "\n",
              "          const docLinkHtml = 'Like what you see? Visit the ' +\n",
              "            '<a target=\"_blank\" href=https://colab.research.google.com/notebooks/data_table.ipynb>data table notebook</a>'\n",
              "            + ' to learn more about interactive tables.';\n",
              "          element.innerHTML = '';\n",
              "          dataTable['output_type'] = 'display_data';\n",
              "          await google.colab.output.renderOutput(dataTable, element);\n",
              "          const docLink = document.createElement('div');\n",
              "          docLink.innerHTML = docLinkHtml;\n",
              "          element.appendChild(docLink);\n",
              "        }\n",
              "      </script>\n",
              "    </div>\n",
              "  </div>\n",
              "  "
            ]
          },
          "metadata": {},
          "execution_count": 19
        }
      ]
    },
    {
      "cell_type": "markdown",
      "source": [
        "**Menghitung Cosine Similarity**\n",
        "\n",
        "---\n",
        "Menghitung derajat kesamaan dengan menggunakan cosine similarity."
      ],
      "metadata": {
        "id": "w4ljubQNmRTW"
      }
    },
    {
      "cell_type": "code",
      "source": [
        "from sklearn.metrics.pairwise import cosine_similarity\n",
        " \n",
        "# Menghitung cosine similarity pada matrix tf-idf\n",
        "cosine_sim = cosine_similarity(tfidf_matrix) \n",
        "cosine_sim"
      ],
      "metadata": {
        "colab": {
          "base_uri": "https://localhost:8080/"
        },
        "id": "1QSxQBGSRv37",
        "outputId": "8cfd9500-8f1c-4720-9f23-3e746020542c"
      },
      "execution_count": null,
      "outputs": [
        {
          "output_type": "execute_result",
          "data": {
            "text/plain": [
              "array([[1.        , 0.80093207, 0.15597355, ..., 0.        , 0.17252369,\n",
              "        0.40894611],\n",
              "       [0.80093207, 1.        , 0.        , ..., 0.        , 0.21540365,\n",
              "        0.51058776],\n",
              "       [0.15597355, 0.        , 1.        , ..., 0.        , 0.        ,\n",
              "        0.        ],\n",
              "       ...,\n",
              "       [0.        , 0.        , 0.        , ..., 1.        , 0.35091823,\n",
              "        0.        ],\n",
              "       [0.17252369, 0.21540365, 0.        , ..., 0.35091823, 1.        ,\n",
              "        0.76174258],\n",
              "       [0.40894611, 0.51058776, 0.        , ..., 0.        , 0.76174258,\n",
              "        1.        ]])"
            ]
          },
          "metadata": {},
          "execution_count": 20
        }
      ]
    },
    {
      "cell_type": "markdown",
      "source": [
        "**Membuat Dataframe dari Hasil Cosine Similarity**\n",
        "\n",
        "---\n",
        "Membuat Dataframe dari Hasil Cosine Similarity untuk mengetahui perbandingan derajat kesamaan,\n"
      ],
      "metadata": {
        "id": "xVW7dZkCmeV_"
      }
    },
    {
      "cell_type": "code",
      "source": [
        "cosine_sim_df = pd.DataFrame(cosine_sim, index=movie_content['title'], columns=movie_content['title'])\n",
        "print('Shape:', cosine_sim_df.shape)\n",
        " \n",
        "cosine_sim_df.sample(5, axis=1).sample(5, axis=0)"
      ],
      "metadata": {
        "colab": {
          "base_uri": "https://localhost:8080/",
          "height": 334
        },
        "id": "eyriUe-EeXCN",
        "outputId": "8d99411d-c642-4d19-d3b6-73196babe793"
      },
      "execution_count": null,
      "outputs": [
        {
          "output_type": "stream",
          "name": "stdout",
          "text": [
            "Shape: (7072, 7072)\n"
          ]
        },
        {
          "output_type": "execute_result",
          "data": {
            "text/plain": [
              "title                                   Believers, The (1987)  \\\n",
              "title                                                           \n",
              "Onibaba (1964)                                       0.472755   \n",
              "American Heist (2015)                                0.000000   \n",
              "Sex and Lucia (Lucía y el sexo) (2001)               0.000000   \n",
              "Faculty, The (1998)                                  0.462059   \n",
              "Together (Tillsammans) (2000)                        0.000000   \n",
              "\n",
              "title                                   Mechanic, The (2011)  \\\n",
              "title                                                          \n",
              "Onibaba (1964)                                      0.135691   \n",
              "American Heist (2015)                               0.645621   \n",
              "Sex and Lucia (Lucía y el sexo) (2001)              0.234606   \n",
              "Faculty, The (1998)                                 0.000000   \n",
              "Together (Tillsammans) (2000)                       0.200934   \n",
              "\n",
              "title                                   You Will Meet a Tall Dark Stranger (2010)  \\\n",
              "title                                                                               \n",
              "Onibaba (1964)                                                           0.000000   \n",
              "American Heist (2015)                                                    0.000000   \n",
              "Sex and Lucia (Lucía y el sexo) (2001)                                   0.682880   \n",
              "Faculty, The (1998)                                                      0.000000   \n",
              "Together (Tillsammans) (2000)                                            0.885706   \n",
              "\n",
              "title                                   Marty (1955)  \\\n",
              "title                                                  \n",
              "Onibaba (1964)                              0.169935   \n",
              "American Heist (2015)                       0.000000   \n",
              "Sex and Lucia (Lucía y el sexo) (2001)      1.000000   \n",
              "Faculty, The (1998)                         0.000000   \n",
              "Together (Tillsammans) (2000)               0.856473   \n",
              "\n",
              "title                                   Any Which Way You Can (1980)  \n",
              "title                                                                 \n",
              "Onibaba (1964)                                              0.000000  \n",
              "American Heist (2015)                                       0.000000  \n",
              "Sex and Lucia (Lucía y el sexo) (2001)                      0.000000  \n",
              "Faculty, The (1998)                                         0.000000  \n",
              "Together (Tillsammans) (2000)                               0.516193  "
            ],
            "text/html": [
              "\n",
              "  <div id=\"df-b62d52a9-b3d5-46e6-a389-d4cc4d780ccb\">\n",
              "    <div class=\"colab-df-container\">\n",
              "      <div>\n",
              "<style scoped>\n",
              "    .dataframe tbody tr th:only-of-type {\n",
              "        vertical-align: middle;\n",
              "    }\n",
              "\n",
              "    .dataframe tbody tr th {\n",
              "        vertical-align: top;\n",
              "    }\n",
              "\n",
              "    .dataframe thead th {\n",
              "        text-align: right;\n",
              "    }\n",
              "</style>\n",
              "<table border=\"1\" class=\"dataframe\">\n",
              "  <thead>\n",
              "    <tr style=\"text-align: right;\">\n",
              "      <th>title</th>\n",
              "      <th>Believers, The (1987)</th>\n",
              "      <th>Mechanic, The (2011)</th>\n",
              "      <th>You Will Meet a Tall Dark Stranger (2010)</th>\n",
              "      <th>Marty (1955)</th>\n",
              "      <th>Any Which Way You Can (1980)</th>\n",
              "    </tr>\n",
              "    <tr>\n",
              "      <th>title</th>\n",
              "      <th></th>\n",
              "      <th></th>\n",
              "      <th></th>\n",
              "      <th></th>\n",
              "      <th></th>\n",
              "    </tr>\n",
              "  </thead>\n",
              "  <tbody>\n",
              "    <tr>\n",
              "      <th>Onibaba (1964)</th>\n",
              "      <td>0.472755</td>\n",
              "      <td>0.135691</td>\n",
              "      <td>0.000000</td>\n",
              "      <td>0.169935</td>\n",
              "      <td>0.000000</td>\n",
              "    </tr>\n",
              "    <tr>\n",
              "      <th>American Heist (2015)</th>\n",
              "      <td>0.000000</td>\n",
              "      <td>0.645621</td>\n",
              "      <td>0.000000</td>\n",
              "      <td>0.000000</td>\n",
              "      <td>0.000000</td>\n",
              "    </tr>\n",
              "    <tr>\n",
              "      <th>Sex and Lucia (Lucía y el sexo) (2001)</th>\n",
              "      <td>0.000000</td>\n",
              "      <td>0.234606</td>\n",
              "      <td>0.682880</td>\n",
              "      <td>1.000000</td>\n",
              "      <td>0.000000</td>\n",
              "    </tr>\n",
              "    <tr>\n",
              "      <th>Faculty, The (1998)</th>\n",
              "      <td>0.462059</td>\n",
              "      <td>0.000000</td>\n",
              "      <td>0.000000</td>\n",
              "      <td>0.000000</td>\n",
              "      <td>0.000000</td>\n",
              "    </tr>\n",
              "    <tr>\n",
              "      <th>Together (Tillsammans) (2000)</th>\n",
              "      <td>0.000000</td>\n",
              "      <td>0.200934</td>\n",
              "      <td>0.885706</td>\n",
              "      <td>0.856473</td>\n",
              "      <td>0.516193</td>\n",
              "    </tr>\n",
              "  </tbody>\n",
              "</table>\n",
              "</div>\n",
              "      <button class=\"colab-df-convert\" onclick=\"convertToInteractive('df-b62d52a9-b3d5-46e6-a389-d4cc4d780ccb')\"\n",
              "              title=\"Convert this dataframe to an interactive table.\"\n",
              "              style=\"display:none;\">\n",
              "        \n",
              "  <svg xmlns=\"http://www.w3.org/2000/svg\" height=\"24px\"viewBox=\"0 0 24 24\"\n",
              "       width=\"24px\">\n",
              "    <path d=\"M0 0h24v24H0V0z\" fill=\"none\"/>\n",
              "    <path d=\"M18.56 5.44l.94 2.06.94-2.06 2.06-.94-2.06-.94-.94-2.06-.94 2.06-2.06.94zm-11 1L8.5 8.5l.94-2.06 2.06-.94-2.06-.94L8.5 2.5l-.94 2.06-2.06.94zm10 10l.94 2.06.94-2.06 2.06-.94-2.06-.94-.94-2.06-.94 2.06-2.06.94z\"/><path d=\"M17.41 7.96l-1.37-1.37c-.4-.4-.92-.59-1.43-.59-.52 0-1.04.2-1.43.59L10.3 9.45l-7.72 7.72c-.78.78-.78 2.05 0 2.83L4 21.41c.39.39.9.59 1.41.59.51 0 1.02-.2 1.41-.59l7.78-7.78 2.81-2.81c.8-.78.8-2.07 0-2.86zM5.41 20L4 18.59l7.72-7.72 1.47 1.35L5.41 20z\"/>\n",
              "  </svg>\n",
              "      </button>\n",
              "      \n",
              "  <style>\n",
              "    .colab-df-container {\n",
              "      display:flex;\n",
              "      flex-wrap:wrap;\n",
              "      gap: 12px;\n",
              "    }\n",
              "\n",
              "    .colab-df-convert {\n",
              "      background-color: #E8F0FE;\n",
              "      border: none;\n",
              "      border-radius: 50%;\n",
              "      cursor: pointer;\n",
              "      display: none;\n",
              "      fill: #1967D2;\n",
              "      height: 32px;\n",
              "      padding: 0 0 0 0;\n",
              "      width: 32px;\n",
              "    }\n",
              "\n",
              "    .colab-df-convert:hover {\n",
              "      background-color: #E2EBFA;\n",
              "      box-shadow: 0px 1px 2px rgba(60, 64, 67, 0.3), 0px 1px 3px 1px rgba(60, 64, 67, 0.15);\n",
              "      fill: #174EA6;\n",
              "    }\n",
              "\n",
              "    [theme=dark] .colab-df-convert {\n",
              "      background-color: #3B4455;\n",
              "      fill: #D2E3FC;\n",
              "    }\n",
              "\n",
              "    [theme=dark] .colab-df-convert:hover {\n",
              "      background-color: #434B5C;\n",
              "      box-shadow: 0px 1px 3px 1px rgba(0, 0, 0, 0.15);\n",
              "      filter: drop-shadow(0px 1px 2px rgba(0, 0, 0, 0.3));\n",
              "      fill: #FFFFFF;\n",
              "    }\n",
              "  </style>\n",
              "\n",
              "      <script>\n",
              "        const buttonEl =\n",
              "          document.querySelector('#df-b62d52a9-b3d5-46e6-a389-d4cc4d780ccb button.colab-df-convert');\n",
              "        buttonEl.style.display =\n",
              "          google.colab.kernel.accessAllowed ? 'block' : 'none';\n",
              "\n",
              "        async function convertToInteractive(key) {\n",
              "          const element = document.querySelector('#df-b62d52a9-b3d5-46e6-a389-d4cc4d780ccb');\n",
              "          const dataTable =\n",
              "            await google.colab.kernel.invokeFunction('convertToInteractive',\n",
              "                                                     [key], {});\n",
              "          if (!dataTable) return;\n",
              "\n",
              "          const docLinkHtml = 'Like what you see? Visit the ' +\n",
              "            '<a target=\"_blank\" href=https://colab.research.google.com/notebooks/data_table.ipynb>data table notebook</a>'\n",
              "            + ' to learn more about interactive tables.';\n",
              "          element.innerHTML = '';\n",
              "          dataTable['output_type'] = 'display_data';\n",
              "          await google.colab.output.renderOutput(dataTable, element);\n",
              "          const docLink = document.createElement('div');\n",
              "          docLink.innerHTML = docLinkHtml;\n",
              "          element.appendChild(docLink);\n",
              "        }\n",
              "      </script>\n",
              "    </div>\n",
              "  </div>\n",
              "  "
            ]
          },
          "metadata": {},
          "execution_count": 21
        }
      ]
    },
    {
      "cell_type": "markdown",
      "source": [
        "**Membuat Function Untuk Content Based Filtering**\n",
        "\n",
        "---\n",
        "Membuat function dengan menggunakan bahasa python untuk membuat sistem rekomendasi Content Based Filtering."
      ],
      "metadata": {
        "id": "TBZ-zcD3naUC"
      }
    },
    {
      "cell_type": "code",
      "source": [
        "def movie_recommendation_CBF(title, similarity_data=cosine_sim_df, items=movie_content[['title', 'genres']], k=5):\n",
        "   \n",
        "    index = similarity_data.loc[:,title].to_numpy().argpartition(\n",
        "        range(-1, -k, -1))\n",
        "    \n",
        "    closest = similarity_data.columns[index[-1:-(k+2):-1]]\n",
        "\n",
        "    closest = closest.drop(title, errors='ignore')\n",
        " \n",
        "    return pd.DataFrame(closest).merge(items).head(k)"
      ],
      "metadata": {
        "id": "g8a3cBVaertZ"
      },
      "execution_count": null,
      "outputs": []
    },
    {
      "cell_type": "markdown",
      "source": [
        "**Mencoba Hasil Sistem Rekomendasi Content Based Filtering**\n",
        "\n",
        "---\n",
        "Mencoba Hasil Sistem Rekomendasi Content Based Filtering dengan menginput judul film Ace Ventura: When Nature Calls (1995).\n"
      ],
      "metadata": {
        "id": "NzfOSGFpn53D"
      }
    },
    {
      "cell_type": "code",
      "source": [
        "movie_recommendation_CBF('Ace Ventura: When Nature Calls (1995)')"
      ],
      "metadata": {
        "colab": {
          "base_uri": "https://localhost:8080/",
          "height": 206
        },
        "id": "ptyQeHdafRpU",
        "outputId": "8cd215e0-90c9-4bd1-f200-b0a47fd62919"
      },
      "execution_count": null,
      "outputs": [
        {
          "output_type": "execute_result",
          "data": {
            "text/plain": [
              "                                               title  genres\n",
              "0                              Shower (Xizao) (1999)  Comedy\n",
              "1                  Children of the Revolution (1996)  Comedy\n",
              "2  Borat: Cultural Learnings of America for Make ...  Comedy\n",
              "3      Romy and Michele's High School Reunion (1997)  Comedy\n",
              "4                     8 Heads in a Duffel Bag (1997)  Comedy"
            ],
            "text/html": [
              "\n",
              "  <div id=\"df-9818d5f8-db74-4f2b-9d66-346b8ca814af\">\n",
              "    <div class=\"colab-df-container\">\n",
              "      <div>\n",
              "<style scoped>\n",
              "    .dataframe tbody tr th:only-of-type {\n",
              "        vertical-align: middle;\n",
              "    }\n",
              "\n",
              "    .dataframe tbody tr th {\n",
              "        vertical-align: top;\n",
              "    }\n",
              "\n",
              "    .dataframe thead th {\n",
              "        text-align: right;\n",
              "    }\n",
              "</style>\n",
              "<table border=\"1\" class=\"dataframe\">\n",
              "  <thead>\n",
              "    <tr style=\"text-align: right;\">\n",
              "      <th></th>\n",
              "      <th>title</th>\n",
              "      <th>genres</th>\n",
              "    </tr>\n",
              "  </thead>\n",
              "  <tbody>\n",
              "    <tr>\n",
              "      <th>0</th>\n",
              "      <td>Shower (Xizao) (1999)</td>\n",
              "      <td>Comedy</td>\n",
              "    </tr>\n",
              "    <tr>\n",
              "      <th>1</th>\n",
              "      <td>Children of the Revolution (1996)</td>\n",
              "      <td>Comedy</td>\n",
              "    </tr>\n",
              "    <tr>\n",
              "      <th>2</th>\n",
              "      <td>Borat: Cultural Learnings of America for Make ...</td>\n",
              "      <td>Comedy</td>\n",
              "    </tr>\n",
              "    <tr>\n",
              "      <th>3</th>\n",
              "      <td>Romy and Michele's High School Reunion (1997)</td>\n",
              "      <td>Comedy</td>\n",
              "    </tr>\n",
              "    <tr>\n",
              "      <th>4</th>\n",
              "      <td>8 Heads in a Duffel Bag (1997)</td>\n",
              "      <td>Comedy</td>\n",
              "    </tr>\n",
              "  </tbody>\n",
              "</table>\n",
              "</div>\n",
              "      <button class=\"colab-df-convert\" onclick=\"convertToInteractive('df-9818d5f8-db74-4f2b-9d66-346b8ca814af')\"\n",
              "              title=\"Convert this dataframe to an interactive table.\"\n",
              "              style=\"display:none;\">\n",
              "        \n",
              "  <svg xmlns=\"http://www.w3.org/2000/svg\" height=\"24px\"viewBox=\"0 0 24 24\"\n",
              "       width=\"24px\">\n",
              "    <path d=\"M0 0h24v24H0V0z\" fill=\"none\"/>\n",
              "    <path d=\"M18.56 5.44l.94 2.06.94-2.06 2.06-.94-2.06-.94-.94-2.06-.94 2.06-2.06.94zm-11 1L8.5 8.5l.94-2.06 2.06-.94-2.06-.94L8.5 2.5l-.94 2.06-2.06.94zm10 10l.94 2.06.94-2.06 2.06-.94-2.06-.94-.94-2.06-.94 2.06-2.06.94z\"/><path d=\"M17.41 7.96l-1.37-1.37c-.4-.4-.92-.59-1.43-.59-.52 0-1.04.2-1.43.59L10.3 9.45l-7.72 7.72c-.78.78-.78 2.05 0 2.83L4 21.41c.39.39.9.59 1.41.59.51 0 1.02-.2 1.41-.59l7.78-7.78 2.81-2.81c.8-.78.8-2.07 0-2.86zM5.41 20L4 18.59l7.72-7.72 1.47 1.35L5.41 20z\"/>\n",
              "  </svg>\n",
              "      </button>\n",
              "      \n",
              "  <style>\n",
              "    .colab-df-container {\n",
              "      display:flex;\n",
              "      flex-wrap:wrap;\n",
              "      gap: 12px;\n",
              "    }\n",
              "\n",
              "    .colab-df-convert {\n",
              "      background-color: #E8F0FE;\n",
              "      border: none;\n",
              "      border-radius: 50%;\n",
              "      cursor: pointer;\n",
              "      display: none;\n",
              "      fill: #1967D2;\n",
              "      height: 32px;\n",
              "      padding: 0 0 0 0;\n",
              "      width: 32px;\n",
              "    }\n",
              "\n",
              "    .colab-df-convert:hover {\n",
              "      background-color: #E2EBFA;\n",
              "      box-shadow: 0px 1px 2px rgba(60, 64, 67, 0.3), 0px 1px 3px 1px rgba(60, 64, 67, 0.15);\n",
              "      fill: #174EA6;\n",
              "    }\n",
              "\n",
              "    [theme=dark] .colab-df-convert {\n",
              "      background-color: #3B4455;\n",
              "      fill: #D2E3FC;\n",
              "    }\n",
              "\n",
              "    [theme=dark] .colab-df-convert:hover {\n",
              "      background-color: #434B5C;\n",
              "      box-shadow: 0px 1px 3px 1px rgba(0, 0, 0, 0.15);\n",
              "      filter: drop-shadow(0px 1px 2px rgba(0, 0, 0, 0.3));\n",
              "      fill: #FFFFFF;\n",
              "    }\n",
              "  </style>\n",
              "\n",
              "      <script>\n",
              "        const buttonEl =\n",
              "          document.querySelector('#df-9818d5f8-db74-4f2b-9d66-346b8ca814af button.colab-df-convert');\n",
              "        buttonEl.style.display =\n",
              "          google.colab.kernel.accessAllowed ? 'block' : 'none';\n",
              "\n",
              "        async function convertToInteractive(key) {\n",
              "          const element = document.querySelector('#df-9818d5f8-db74-4f2b-9d66-346b8ca814af');\n",
              "          const dataTable =\n",
              "            await google.colab.kernel.invokeFunction('convertToInteractive',\n",
              "                                                     [key], {});\n",
              "          if (!dataTable) return;\n",
              "\n",
              "          const docLinkHtml = 'Like what you see? Visit the ' +\n",
              "            '<a target=\"_blank\" href=https://colab.research.google.com/notebooks/data_table.ipynb>data table notebook</a>'\n",
              "            + ' to learn more about interactive tables.';\n",
              "          element.innerHTML = '';\n",
              "          dataTable['output_type'] = 'display_data';\n",
              "          await google.colab.output.renderOutput(dataTable, element);\n",
              "          const docLink = document.createElement('div');\n",
              "          docLink.innerHTML = docLinkHtml;\n",
              "          element.appendChild(docLink);\n",
              "        }\n",
              "      </script>\n",
              "    </div>\n",
              "  </div>\n",
              "  "
            ]
          },
          "metadata": {},
          "execution_count": 43
        }
      ]
    },
    {
      "cell_type": "markdown",
      "source": [
        "**Memeriksa keakuratan Hasil Sistem Rekomendasi**\n",
        "\n",
        "---\n",
        "Untuk memeriksa, keakuratan hasil sistem rekomendasi Content Based Learning, kita memeriksa genre dari judul film yang diinput."
      ],
      "metadata": {
        "id": "u9YeeqFcIKVa"
      }
    },
    {
      "cell_type": "code",
      "source": [
        "movie_content[movie_content.title.eq('Ace Ventura: When Nature Calls (1995)')]"
      ],
      "metadata": {
        "colab": {
          "base_uri": "https://localhost:8080/",
          "height": 81
        },
        "id": "r45FTMRyHOUg",
        "outputId": "ecde8640-e0f6-446f-a185-fbef7106231a"
      },
      "execution_count": null,
      "outputs": [
        {
          "output_type": "execute_result",
          "data": {
            "text/plain": [
              "    id                                  title  genres\n",
              "18  19  Ace Ventura: When Nature Calls (1995)  Comedy"
            ],
            "text/html": [
              "\n",
              "  <div id=\"df-fdcd5a48-3c47-40d7-b6d9-f1e1f4099fcf\">\n",
              "    <div class=\"colab-df-container\">\n",
              "      <div>\n",
              "<style scoped>\n",
              "    .dataframe tbody tr th:only-of-type {\n",
              "        vertical-align: middle;\n",
              "    }\n",
              "\n",
              "    .dataframe tbody tr th {\n",
              "        vertical-align: top;\n",
              "    }\n",
              "\n",
              "    .dataframe thead th {\n",
              "        text-align: right;\n",
              "    }\n",
              "</style>\n",
              "<table border=\"1\" class=\"dataframe\">\n",
              "  <thead>\n",
              "    <tr style=\"text-align: right;\">\n",
              "      <th></th>\n",
              "      <th>id</th>\n",
              "      <th>title</th>\n",
              "      <th>genres</th>\n",
              "    </tr>\n",
              "  </thead>\n",
              "  <tbody>\n",
              "    <tr>\n",
              "      <th>18</th>\n",
              "      <td>19</td>\n",
              "      <td>Ace Ventura: When Nature Calls (1995)</td>\n",
              "      <td>Comedy</td>\n",
              "    </tr>\n",
              "  </tbody>\n",
              "</table>\n",
              "</div>\n",
              "      <button class=\"colab-df-convert\" onclick=\"convertToInteractive('df-fdcd5a48-3c47-40d7-b6d9-f1e1f4099fcf')\"\n",
              "              title=\"Convert this dataframe to an interactive table.\"\n",
              "              style=\"display:none;\">\n",
              "        \n",
              "  <svg xmlns=\"http://www.w3.org/2000/svg\" height=\"24px\"viewBox=\"0 0 24 24\"\n",
              "       width=\"24px\">\n",
              "    <path d=\"M0 0h24v24H0V0z\" fill=\"none\"/>\n",
              "    <path d=\"M18.56 5.44l.94 2.06.94-2.06 2.06-.94-2.06-.94-.94-2.06-.94 2.06-2.06.94zm-11 1L8.5 8.5l.94-2.06 2.06-.94-2.06-.94L8.5 2.5l-.94 2.06-2.06.94zm10 10l.94 2.06.94-2.06 2.06-.94-2.06-.94-.94-2.06-.94 2.06-2.06.94z\"/><path d=\"M17.41 7.96l-1.37-1.37c-.4-.4-.92-.59-1.43-.59-.52 0-1.04.2-1.43.59L10.3 9.45l-7.72 7.72c-.78.78-.78 2.05 0 2.83L4 21.41c.39.39.9.59 1.41.59.51 0 1.02-.2 1.41-.59l7.78-7.78 2.81-2.81c.8-.78.8-2.07 0-2.86zM5.41 20L4 18.59l7.72-7.72 1.47 1.35L5.41 20z\"/>\n",
              "  </svg>\n",
              "      </button>\n",
              "      \n",
              "  <style>\n",
              "    .colab-df-container {\n",
              "      display:flex;\n",
              "      flex-wrap:wrap;\n",
              "      gap: 12px;\n",
              "    }\n",
              "\n",
              "    .colab-df-convert {\n",
              "      background-color: #E8F0FE;\n",
              "      border: none;\n",
              "      border-radius: 50%;\n",
              "      cursor: pointer;\n",
              "      display: none;\n",
              "      fill: #1967D2;\n",
              "      height: 32px;\n",
              "      padding: 0 0 0 0;\n",
              "      width: 32px;\n",
              "    }\n",
              "\n",
              "    .colab-df-convert:hover {\n",
              "      background-color: #E2EBFA;\n",
              "      box-shadow: 0px 1px 2px rgba(60, 64, 67, 0.3), 0px 1px 3px 1px rgba(60, 64, 67, 0.15);\n",
              "      fill: #174EA6;\n",
              "    }\n",
              "\n",
              "    [theme=dark] .colab-df-convert {\n",
              "      background-color: #3B4455;\n",
              "      fill: #D2E3FC;\n",
              "    }\n",
              "\n",
              "    [theme=dark] .colab-df-convert:hover {\n",
              "      background-color: #434B5C;\n",
              "      box-shadow: 0px 1px 3px 1px rgba(0, 0, 0, 0.15);\n",
              "      filter: drop-shadow(0px 1px 2px rgba(0, 0, 0, 0.3));\n",
              "      fill: #FFFFFF;\n",
              "    }\n",
              "  </style>\n",
              "\n",
              "      <script>\n",
              "        const buttonEl =\n",
              "          document.querySelector('#df-fdcd5a48-3c47-40d7-b6d9-f1e1f4099fcf button.colab-df-convert');\n",
              "        buttonEl.style.display =\n",
              "          google.colab.kernel.accessAllowed ? 'block' : 'none';\n",
              "\n",
              "        async function convertToInteractive(key) {\n",
              "          const element = document.querySelector('#df-fdcd5a48-3c47-40d7-b6d9-f1e1f4099fcf');\n",
              "          const dataTable =\n",
              "            await google.colab.kernel.invokeFunction('convertToInteractive',\n",
              "                                                     [key], {});\n",
              "          if (!dataTable) return;\n",
              "\n",
              "          const docLinkHtml = 'Like what you see? Visit the ' +\n",
              "            '<a target=\"_blank\" href=https://colab.research.google.com/notebooks/data_table.ipynb>data table notebook</a>'\n",
              "            + ' to learn more about interactive tables.';\n",
              "          element.innerHTML = '';\n",
              "          dataTable['output_type'] = 'display_data';\n",
              "          await google.colab.output.renderOutput(dataTable, element);\n",
              "          const docLink = document.createElement('div');\n",
              "          docLink.innerHTML = docLinkHtml;\n",
              "          element.appendChild(docLink);\n",
              "        }\n",
              "      </script>\n",
              "    </div>\n",
              "  </div>\n",
              "  "
            ]
          },
          "metadata": {},
          "execution_count": 26
        }
      ]
    },
    {
      "cell_type": "markdown",
      "source": [
        "**Data Preparation Untuk Sistem Rekomendasi Collaborative Filtering**\n",
        "\n",
        "---\n",
        "Melakukan proses Data Preparation Untuk Sistem Rekomendasi Collaborative Filtering dengan cara menyiapkan data Id Pengguna"
      ],
      "metadata": {
        "id": "ulIjWJBBor2-"
      }
    },
    {
      "cell_type": "code",
      "source": [
        "# Mengubah data id_pengguna menjadi list tanpa nilai duplikat\n",
        "id_pengguna = ratings['userId'].unique().tolist()\n",
        "print('Daftar id_pengguna: ', id_pengguna)\n",
        " \n",
        "# Melakukan proses encoding id_pengguna\n",
        "encoding_id_pengguna = {x: i for i, x in enumerate(id_pengguna)}\n",
        "print('id_pengguna diencoding : ', encoding_id_pengguna)\n",
        " \n",
        "# Melakukan proses encoding angka ke ke id_pengguna\n",
        "user_encoding_to_user = {i: x for i, x in enumerate(id_pengguna)}\n",
        "print('encoding angka ke id_pengguna: ', encoding_id_pengguna)"
      ],
      "metadata": {
        "colab": {
          "base_uri": "https://localhost:8080/"
        },
        "id": "2RnMi4Pl7Wnk",
        "outputId": "881e7623-33f8-44f0-82f2-6f8638f61d9d"
      },
      "execution_count": null,
      "outputs": [
        {
          "output_type": "stream",
          "name": "stdout",
          "text": [
            "Daftar id_pengguna:  [1, 2, 3, 4, 5, 6, 7, 8, 9, 10, 11, 12, 13, 14, 15, 16, 17, 18, 19, 20, 21, 22, 23, 24, 25, 26, 27, 28, 29, 30, 31, 32, 33, 34, 35, 36, 37, 38, 39, 40, 41, 42, 43, 44, 45, 46, 47, 48, 49, 50, 51, 52, 53, 54, 55, 56, 57, 58, 59, 60, 61, 62, 63, 64, 65, 66, 67, 68, 69, 70, 71, 72, 73, 74, 75, 76, 77, 78, 79, 80, 81, 82, 83, 84, 85, 86, 87, 88, 89, 90, 91, 92, 93, 94, 95, 96, 97, 98, 99, 100, 101, 102, 103, 104, 105, 106, 107, 108, 109, 110, 111, 112, 113, 114, 115, 116, 117, 118, 119, 120, 121, 122, 123, 124, 125, 126, 127, 128, 129, 130, 131, 132, 133, 134, 135, 136, 137, 138, 139, 140, 141, 142, 143, 144, 145, 146, 147, 148, 149, 150, 151, 152, 153, 154, 155, 156, 157, 158, 159, 160, 161, 162, 163, 164, 165, 166, 167, 168, 169, 170, 171, 172, 173, 174, 175, 176, 177, 178, 179, 180, 181, 182, 183, 184, 185, 186, 187, 188, 189, 190, 191, 192, 193, 194, 195, 196, 197, 198, 199, 200, 201, 202, 203, 204, 205, 206, 207, 208, 209, 210, 211, 212, 213, 214, 215, 216, 217, 218, 219, 220, 221, 222, 223, 224, 225, 226, 227, 228, 229, 230, 231, 232, 233, 234, 235, 236, 237, 238, 239, 240, 241, 242, 243, 244, 245, 246, 247, 248, 249, 250, 251, 252, 253, 254, 255, 256, 257, 258, 259, 260, 261, 262, 263, 264, 265, 266, 267, 268, 269, 270, 271, 272, 273, 274, 275, 276, 277, 278, 279, 280, 281, 282, 283, 284, 285, 286, 287, 288, 289, 290, 291, 292, 293, 294, 295, 296, 297, 298, 299, 300, 301, 302, 303, 304, 305, 306, 307, 308, 309, 310, 311, 312, 313, 314, 315, 316, 317, 318, 319, 320, 321, 322, 323, 324, 325, 326, 327, 328, 329, 330, 331, 332, 333, 334, 335, 336, 337, 338, 339, 340, 341, 342, 343, 344, 345, 346, 347, 348, 349, 350, 351, 352, 353, 354, 355, 356, 357, 358, 359, 360, 361, 362, 363, 364, 365, 366, 367, 368, 369, 370, 371, 372, 373, 374, 375, 376, 377, 378, 379, 380, 381, 382, 383, 384, 385, 386, 387, 388, 389, 390, 391, 392, 393, 394, 395, 396, 397, 398, 399, 400, 401, 402, 403, 404, 405, 406, 407, 408, 409, 410, 411, 412, 413, 414, 415, 416, 417, 418, 419, 420, 421, 422, 423, 424, 425, 426, 427, 428, 429, 430, 431, 432, 433, 434, 435, 436, 437, 438, 439, 440, 441, 442, 443, 444, 445, 446, 447, 448, 449, 450, 451, 452, 453, 454, 455, 456, 457, 458, 459, 460, 461, 462, 463, 464, 465, 466, 467, 468, 469, 470, 471, 472, 473, 474, 475, 476, 477, 478, 479, 480, 481, 482, 483, 484, 485, 486, 487, 488, 489, 490, 491, 492, 493, 494, 495, 496, 497, 498, 499, 500, 501, 502, 503, 504, 505, 506, 507, 508, 509, 510, 511, 512, 513, 514, 515, 516, 517, 518, 519, 520, 521, 522, 523, 524, 525, 526, 527, 528, 529, 530, 531, 532, 533, 534, 535, 536, 537, 538, 539, 540, 541, 542, 543, 544, 545, 546, 547, 548, 549, 550, 551, 552, 553, 554, 555, 556, 557, 558, 559, 560, 561, 562, 563, 564, 565, 566, 567, 568, 569, 570, 571, 572, 573, 574, 575, 576, 577, 578, 579, 580, 581, 582, 583, 584, 585, 586, 587, 588, 589, 590, 591, 592, 593, 594, 595, 596, 597, 598, 599, 600, 601, 602, 603, 604, 605, 606, 607, 608, 609, 610]\n",
            "id_pengguna diencoding :  {1: 0, 2: 1, 3: 2, 4: 3, 5: 4, 6: 5, 7: 6, 8: 7, 9: 8, 10: 9, 11: 10, 12: 11, 13: 12, 14: 13, 15: 14, 16: 15, 17: 16, 18: 17, 19: 18, 20: 19, 21: 20, 22: 21, 23: 22, 24: 23, 25: 24, 26: 25, 27: 26, 28: 27, 29: 28, 30: 29, 31: 30, 32: 31, 33: 32, 34: 33, 35: 34, 36: 35, 37: 36, 38: 37, 39: 38, 40: 39, 41: 40, 42: 41, 43: 42, 44: 43, 45: 44, 46: 45, 47: 46, 48: 47, 49: 48, 50: 49, 51: 50, 52: 51, 53: 52, 54: 53, 55: 54, 56: 55, 57: 56, 58: 57, 59: 58, 60: 59, 61: 60, 62: 61, 63: 62, 64: 63, 65: 64, 66: 65, 67: 66, 68: 67, 69: 68, 70: 69, 71: 70, 72: 71, 73: 72, 74: 73, 75: 74, 76: 75, 77: 76, 78: 77, 79: 78, 80: 79, 81: 80, 82: 81, 83: 82, 84: 83, 85: 84, 86: 85, 87: 86, 88: 87, 89: 88, 90: 89, 91: 90, 92: 91, 93: 92, 94: 93, 95: 94, 96: 95, 97: 96, 98: 97, 99: 98, 100: 99, 101: 100, 102: 101, 103: 102, 104: 103, 105: 104, 106: 105, 107: 106, 108: 107, 109: 108, 110: 109, 111: 110, 112: 111, 113: 112, 114: 113, 115: 114, 116: 115, 117: 116, 118: 117, 119: 118, 120: 119, 121: 120, 122: 121, 123: 122, 124: 123, 125: 124, 126: 125, 127: 126, 128: 127, 129: 128, 130: 129, 131: 130, 132: 131, 133: 132, 134: 133, 135: 134, 136: 135, 137: 136, 138: 137, 139: 138, 140: 139, 141: 140, 142: 141, 143: 142, 144: 143, 145: 144, 146: 145, 147: 146, 148: 147, 149: 148, 150: 149, 151: 150, 152: 151, 153: 152, 154: 153, 155: 154, 156: 155, 157: 156, 158: 157, 159: 158, 160: 159, 161: 160, 162: 161, 163: 162, 164: 163, 165: 164, 166: 165, 167: 166, 168: 167, 169: 168, 170: 169, 171: 170, 172: 171, 173: 172, 174: 173, 175: 174, 176: 175, 177: 176, 178: 177, 179: 178, 180: 179, 181: 180, 182: 181, 183: 182, 184: 183, 185: 184, 186: 185, 187: 186, 188: 187, 189: 188, 190: 189, 191: 190, 192: 191, 193: 192, 194: 193, 195: 194, 196: 195, 197: 196, 198: 197, 199: 198, 200: 199, 201: 200, 202: 201, 203: 202, 204: 203, 205: 204, 206: 205, 207: 206, 208: 207, 209: 208, 210: 209, 211: 210, 212: 211, 213: 212, 214: 213, 215: 214, 216: 215, 217: 216, 218: 217, 219: 218, 220: 219, 221: 220, 222: 221, 223: 222, 224: 223, 225: 224, 226: 225, 227: 226, 228: 227, 229: 228, 230: 229, 231: 230, 232: 231, 233: 232, 234: 233, 235: 234, 236: 235, 237: 236, 238: 237, 239: 238, 240: 239, 241: 240, 242: 241, 243: 242, 244: 243, 245: 244, 246: 245, 247: 246, 248: 247, 249: 248, 250: 249, 251: 250, 252: 251, 253: 252, 254: 253, 255: 254, 256: 255, 257: 256, 258: 257, 259: 258, 260: 259, 261: 260, 262: 261, 263: 262, 264: 263, 265: 264, 266: 265, 267: 266, 268: 267, 269: 268, 270: 269, 271: 270, 272: 271, 273: 272, 274: 273, 275: 274, 276: 275, 277: 276, 278: 277, 279: 278, 280: 279, 281: 280, 282: 281, 283: 282, 284: 283, 285: 284, 286: 285, 287: 286, 288: 287, 289: 288, 290: 289, 291: 290, 292: 291, 293: 292, 294: 293, 295: 294, 296: 295, 297: 296, 298: 297, 299: 298, 300: 299, 301: 300, 302: 301, 303: 302, 304: 303, 305: 304, 306: 305, 307: 306, 308: 307, 309: 308, 310: 309, 311: 310, 312: 311, 313: 312, 314: 313, 315: 314, 316: 315, 317: 316, 318: 317, 319: 318, 320: 319, 321: 320, 322: 321, 323: 322, 324: 323, 325: 324, 326: 325, 327: 326, 328: 327, 329: 328, 330: 329, 331: 330, 332: 331, 333: 332, 334: 333, 335: 334, 336: 335, 337: 336, 338: 337, 339: 338, 340: 339, 341: 340, 342: 341, 343: 342, 344: 343, 345: 344, 346: 345, 347: 346, 348: 347, 349: 348, 350: 349, 351: 350, 352: 351, 353: 352, 354: 353, 355: 354, 356: 355, 357: 356, 358: 357, 359: 358, 360: 359, 361: 360, 362: 361, 363: 362, 364: 363, 365: 364, 366: 365, 367: 366, 368: 367, 369: 368, 370: 369, 371: 370, 372: 371, 373: 372, 374: 373, 375: 374, 376: 375, 377: 376, 378: 377, 379: 378, 380: 379, 381: 380, 382: 381, 383: 382, 384: 383, 385: 384, 386: 385, 387: 386, 388: 387, 389: 388, 390: 389, 391: 390, 392: 391, 393: 392, 394: 393, 395: 394, 396: 395, 397: 396, 398: 397, 399: 398, 400: 399, 401: 400, 402: 401, 403: 402, 404: 403, 405: 404, 406: 405, 407: 406, 408: 407, 409: 408, 410: 409, 411: 410, 412: 411, 413: 412, 414: 413, 415: 414, 416: 415, 417: 416, 418: 417, 419: 418, 420: 419, 421: 420, 422: 421, 423: 422, 424: 423, 425: 424, 426: 425, 427: 426, 428: 427, 429: 428, 430: 429, 431: 430, 432: 431, 433: 432, 434: 433, 435: 434, 436: 435, 437: 436, 438: 437, 439: 438, 440: 439, 441: 440, 442: 441, 443: 442, 444: 443, 445: 444, 446: 445, 447: 446, 448: 447, 449: 448, 450: 449, 451: 450, 452: 451, 453: 452, 454: 453, 455: 454, 456: 455, 457: 456, 458: 457, 459: 458, 460: 459, 461: 460, 462: 461, 463: 462, 464: 463, 465: 464, 466: 465, 467: 466, 468: 467, 469: 468, 470: 469, 471: 470, 472: 471, 473: 472, 474: 473, 475: 474, 476: 475, 477: 476, 478: 477, 479: 478, 480: 479, 481: 480, 482: 481, 483: 482, 484: 483, 485: 484, 486: 485, 487: 486, 488: 487, 489: 488, 490: 489, 491: 490, 492: 491, 493: 492, 494: 493, 495: 494, 496: 495, 497: 496, 498: 497, 499: 498, 500: 499, 501: 500, 502: 501, 503: 502, 504: 503, 505: 504, 506: 505, 507: 506, 508: 507, 509: 508, 510: 509, 511: 510, 512: 511, 513: 512, 514: 513, 515: 514, 516: 515, 517: 516, 518: 517, 519: 518, 520: 519, 521: 520, 522: 521, 523: 522, 524: 523, 525: 524, 526: 525, 527: 526, 528: 527, 529: 528, 530: 529, 531: 530, 532: 531, 533: 532, 534: 533, 535: 534, 536: 535, 537: 536, 538: 537, 539: 538, 540: 539, 541: 540, 542: 541, 543: 542, 544: 543, 545: 544, 546: 545, 547: 546, 548: 547, 549: 548, 550: 549, 551: 550, 552: 551, 553: 552, 554: 553, 555: 554, 556: 555, 557: 556, 558: 557, 559: 558, 560: 559, 561: 560, 562: 561, 563: 562, 564: 563, 565: 564, 566: 565, 567: 566, 568: 567, 569: 568, 570: 569, 571: 570, 572: 571, 573: 572, 574: 573, 575: 574, 576: 575, 577: 576, 578: 577, 579: 578, 580: 579, 581: 580, 582: 581, 583: 582, 584: 583, 585: 584, 586: 585, 587: 586, 588: 587, 589: 588, 590: 589, 591: 590, 592: 591, 593: 592, 594: 593, 595: 594, 596: 595, 597: 596, 598: 597, 599: 598, 600: 599, 601: 600, 602: 601, 603: 602, 604: 603, 605: 604, 606: 605, 607: 606, 608: 607, 609: 608, 610: 609}\n",
            "encoding angka ke id_pengguna:  {1: 0, 2: 1, 3: 2, 4: 3, 5: 4, 6: 5, 7: 6, 8: 7, 9: 8, 10: 9, 11: 10, 12: 11, 13: 12, 14: 13, 15: 14, 16: 15, 17: 16, 18: 17, 19: 18, 20: 19, 21: 20, 22: 21, 23: 22, 24: 23, 25: 24, 26: 25, 27: 26, 28: 27, 29: 28, 30: 29, 31: 30, 32: 31, 33: 32, 34: 33, 35: 34, 36: 35, 37: 36, 38: 37, 39: 38, 40: 39, 41: 40, 42: 41, 43: 42, 44: 43, 45: 44, 46: 45, 47: 46, 48: 47, 49: 48, 50: 49, 51: 50, 52: 51, 53: 52, 54: 53, 55: 54, 56: 55, 57: 56, 58: 57, 59: 58, 60: 59, 61: 60, 62: 61, 63: 62, 64: 63, 65: 64, 66: 65, 67: 66, 68: 67, 69: 68, 70: 69, 71: 70, 72: 71, 73: 72, 74: 73, 75: 74, 76: 75, 77: 76, 78: 77, 79: 78, 80: 79, 81: 80, 82: 81, 83: 82, 84: 83, 85: 84, 86: 85, 87: 86, 88: 87, 89: 88, 90: 89, 91: 90, 92: 91, 93: 92, 94: 93, 95: 94, 96: 95, 97: 96, 98: 97, 99: 98, 100: 99, 101: 100, 102: 101, 103: 102, 104: 103, 105: 104, 106: 105, 107: 106, 108: 107, 109: 108, 110: 109, 111: 110, 112: 111, 113: 112, 114: 113, 115: 114, 116: 115, 117: 116, 118: 117, 119: 118, 120: 119, 121: 120, 122: 121, 123: 122, 124: 123, 125: 124, 126: 125, 127: 126, 128: 127, 129: 128, 130: 129, 131: 130, 132: 131, 133: 132, 134: 133, 135: 134, 136: 135, 137: 136, 138: 137, 139: 138, 140: 139, 141: 140, 142: 141, 143: 142, 144: 143, 145: 144, 146: 145, 147: 146, 148: 147, 149: 148, 150: 149, 151: 150, 152: 151, 153: 152, 154: 153, 155: 154, 156: 155, 157: 156, 158: 157, 159: 158, 160: 159, 161: 160, 162: 161, 163: 162, 164: 163, 165: 164, 166: 165, 167: 166, 168: 167, 169: 168, 170: 169, 171: 170, 172: 171, 173: 172, 174: 173, 175: 174, 176: 175, 177: 176, 178: 177, 179: 178, 180: 179, 181: 180, 182: 181, 183: 182, 184: 183, 185: 184, 186: 185, 187: 186, 188: 187, 189: 188, 190: 189, 191: 190, 192: 191, 193: 192, 194: 193, 195: 194, 196: 195, 197: 196, 198: 197, 199: 198, 200: 199, 201: 200, 202: 201, 203: 202, 204: 203, 205: 204, 206: 205, 207: 206, 208: 207, 209: 208, 210: 209, 211: 210, 212: 211, 213: 212, 214: 213, 215: 214, 216: 215, 217: 216, 218: 217, 219: 218, 220: 219, 221: 220, 222: 221, 223: 222, 224: 223, 225: 224, 226: 225, 227: 226, 228: 227, 229: 228, 230: 229, 231: 230, 232: 231, 233: 232, 234: 233, 235: 234, 236: 235, 237: 236, 238: 237, 239: 238, 240: 239, 241: 240, 242: 241, 243: 242, 244: 243, 245: 244, 246: 245, 247: 246, 248: 247, 249: 248, 250: 249, 251: 250, 252: 251, 253: 252, 254: 253, 255: 254, 256: 255, 257: 256, 258: 257, 259: 258, 260: 259, 261: 260, 262: 261, 263: 262, 264: 263, 265: 264, 266: 265, 267: 266, 268: 267, 269: 268, 270: 269, 271: 270, 272: 271, 273: 272, 274: 273, 275: 274, 276: 275, 277: 276, 278: 277, 279: 278, 280: 279, 281: 280, 282: 281, 283: 282, 284: 283, 285: 284, 286: 285, 287: 286, 288: 287, 289: 288, 290: 289, 291: 290, 292: 291, 293: 292, 294: 293, 295: 294, 296: 295, 297: 296, 298: 297, 299: 298, 300: 299, 301: 300, 302: 301, 303: 302, 304: 303, 305: 304, 306: 305, 307: 306, 308: 307, 309: 308, 310: 309, 311: 310, 312: 311, 313: 312, 314: 313, 315: 314, 316: 315, 317: 316, 318: 317, 319: 318, 320: 319, 321: 320, 322: 321, 323: 322, 324: 323, 325: 324, 326: 325, 327: 326, 328: 327, 329: 328, 330: 329, 331: 330, 332: 331, 333: 332, 334: 333, 335: 334, 336: 335, 337: 336, 338: 337, 339: 338, 340: 339, 341: 340, 342: 341, 343: 342, 344: 343, 345: 344, 346: 345, 347: 346, 348: 347, 349: 348, 350: 349, 351: 350, 352: 351, 353: 352, 354: 353, 355: 354, 356: 355, 357: 356, 358: 357, 359: 358, 360: 359, 361: 360, 362: 361, 363: 362, 364: 363, 365: 364, 366: 365, 367: 366, 368: 367, 369: 368, 370: 369, 371: 370, 372: 371, 373: 372, 374: 373, 375: 374, 376: 375, 377: 376, 378: 377, 379: 378, 380: 379, 381: 380, 382: 381, 383: 382, 384: 383, 385: 384, 386: 385, 387: 386, 388: 387, 389: 388, 390: 389, 391: 390, 392: 391, 393: 392, 394: 393, 395: 394, 396: 395, 397: 396, 398: 397, 399: 398, 400: 399, 401: 400, 402: 401, 403: 402, 404: 403, 405: 404, 406: 405, 407: 406, 408: 407, 409: 408, 410: 409, 411: 410, 412: 411, 413: 412, 414: 413, 415: 414, 416: 415, 417: 416, 418: 417, 419: 418, 420: 419, 421: 420, 422: 421, 423: 422, 424: 423, 425: 424, 426: 425, 427: 426, 428: 427, 429: 428, 430: 429, 431: 430, 432: 431, 433: 432, 434: 433, 435: 434, 436: 435, 437: 436, 438: 437, 439: 438, 440: 439, 441: 440, 442: 441, 443: 442, 444: 443, 445: 444, 446: 445, 447: 446, 448: 447, 449: 448, 450: 449, 451: 450, 452: 451, 453: 452, 454: 453, 455: 454, 456: 455, 457: 456, 458: 457, 459: 458, 460: 459, 461: 460, 462: 461, 463: 462, 464: 463, 465: 464, 466: 465, 467: 466, 468: 467, 469: 468, 470: 469, 471: 470, 472: 471, 473: 472, 474: 473, 475: 474, 476: 475, 477: 476, 478: 477, 479: 478, 480: 479, 481: 480, 482: 481, 483: 482, 484: 483, 485: 484, 486: 485, 487: 486, 488: 487, 489: 488, 490: 489, 491: 490, 492: 491, 493: 492, 494: 493, 495: 494, 496: 495, 497: 496, 498: 497, 499: 498, 500: 499, 501: 500, 502: 501, 503: 502, 504: 503, 505: 504, 506: 505, 507: 506, 508: 507, 509: 508, 510: 509, 511: 510, 512: 511, 513: 512, 514: 513, 515: 514, 516: 515, 517: 516, 518: 517, 519: 518, 520: 519, 521: 520, 522: 521, 523: 522, 524: 523, 525: 524, 526: 525, 527: 526, 528: 527, 529: 528, 530: 529, 531: 530, 532: 531, 533: 532, 534: 533, 535: 534, 536: 535, 537: 536, 538: 537, 539: 538, 540: 539, 541: 540, 542: 541, 543: 542, 544: 543, 545: 544, 546: 545, 547: 546, 548: 547, 549: 548, 550: 549, 551: 550, 552: 551, 553: 552, 554: 553, 555: 554, 556: 555, 557: 556, 558: 557, 559: 558, 560: 559, 561: 560, 562: 561, 563: 562, 564: 563, 565: 564, 566: 565, 567: 566, 568: 567, 569: 568, 570: 569, 571: 570, 572: 571, 573: 572, 574: 573, 575: 574, 576: 575, 577: 576, 578: 577, 579: 578, 580: 579, 581: 580, 582: 581, 583: 582, 584: 583, 585: 584, 586: 585, 587: 586, 588: 587, 589: 588, 590: 589, 591: 590, 592: 591, 593: 592, 594: 593, 595: 594, 596: 595, 597: 596, 598: 597, 599: 598, 600: 599, 601: 600, 602: 601, 603: 602, 604: 603, 605: 604, 606: 605, 607: 606, 608: 607, 609: 608, 610: 609}\n"
          ]
        }
      ]
    },
    {
      "cell_type": "markdown",
      "source": [
        "**Data Preparation Untuk Variabel movieId**\n",
        "\n",
        "---\n",
        "Melakukan proses data preparation pada variabel movieId, agar data dapat digunakan pada sistem rekomendasi Collaborative Filtering."
      ],
      "metadata": {
        "id": "fC9qAFxArPu8"
      }
    },
    {
      "cell_type": "code",
      "source": [
        "# Mengubah id_film menjadi list tanpa duplikat\n",
        "id_film = ratings['movieId'].unique().tolist()\n",
        " \n",
        "# Melakukan proses encoding id_film\n",
        "encoding_id_film = {x: i for i, x in enumerate(id_film)}\n",
        " \n",
        "# Melakukan proses encoding angka ke movieId\n",
        "movie_encoded_to_movie = {i: x for i, x in enumerate(id_film)}\n",
        " \n",
        "# Selanjutnya, petakan userId dan movieId ke dataframe yang berkaitan.\n",
        " \n",
        "# Mapping userId ke dataframe genres\n",
        "ratings['genres'] = ratings['userId'].map(encoding_id_pengguna)\n",
        " \n",
        "# Mapping movieId ke dataframe movies\n",
        "ratings['movies'] = ratings['movieId'].map(encoding_id_film)"
      ],
      "metadata": {
        "id": "Zsnk4u8A7n6v"
      },
      "execution_count": null,
      "outputs": []
    },
    {
      "cell_type": "markdown",
      "source": [
        "**Menganalisis Data Untuk Collaborative Filtering**\n",
        "\n",
        "---\n",
        "Melakukan analisis data untuk Collaborative Filtering."
      ],
      "metadata": {
        "id": "P2DFn_7YtKXb"
      }
    },
    {
      "cell_type": "code",
      "source": [
        "total_users = len(encoding_id_pengguna)\n",
        "print(total_users)\n",
        " \n",
        "total_movies = len(movie_encoded_to_movie)\n",
        "print(total_movies)\n",
        " \n",
        "ratings['ratings'] = ratings['rating'].values.astype(np.float32)\n",
        " \n",
        "min_rating = min(ratings['rating'])\n",
        " \n",
        "max_rating = max(ratings['rating'])\n",
        " \n",
        "print('Jumlah pengguna: {}, Jumlah Film: {}, Rating Minimal: {}, Rating Maksimal: {}'.format(\n",
        "    total_users, total_movies, min_rating, max_rating\n",
        "))"
      ],
      "metadata": {
        "colab": {
          "base_uri": "https://localhost:8080/"
        },
        "id": "FK7UGak58CfE",
        "outputId": "c8770726-1c2c-4e79-d939-f1fb806fa1b3"
      },
      "execution_count": null,
      "outputs": [
        {
          "output_type": "stream",
          "name": "stdout",
          "text": [
            "610\n",
            "9724\n",
            "Jumlah pengguna: 610, Jumlah Film: 9724, Rating Minimal: 0.5, Rating Maksimal: 5.0\n"
          ]
        }
      ]
    },
    {
      "cell_type": "markdown",
      "source": [
        "**Menetapkan Random State Untuk Dataframe**\n",
        "\n",
        "---\n",
        "Menetapkan Random State Pada Dataframe yang akan digunakan pada sistem rekomendasi Collaborative Filtering."
      ],
      "metadata": {
        "id": "YPmARG9Ct1Db"
      }
    },
    {
      "cell_type": "code",
      "source": [
        "df = ratings.sample(frac=1, random_state=40)\n",
        "df"
      ],
      "metadata": {
        "colab": {
          "base_uri": "https://localhost:8080/",
          "height": 424
        },
        "id": "YGqrW4LF8TA4",
        "outputId": "07d7fb7b-8694-4b65-c39b-ceafce877998"
      },
      "execution_count": null,
      "outputs": [
        {
          "output_type": "execute_result",
          "data": {
            "text/plain": [
              "       userId  movieId  rating   timestamp  genres  movies  ratings\n",
              "20567     135     3360     3.0  1009693935     134    2204      3.0\n",
              "70093     448    98296     1.5  1367270204     447    7869      1.5\n",
              "74428     474     5349     4.5  1100291637     473     756      4.5\n",
              "3469       21    63082     3.5  1468113389      20    1915      3.5\n",
              "4439       28     4027     3.5  1242031777      27     436      3.5\n",
              "...       ...      ...     ...         ...     ...     ...      ...\n",
              "56760     377     6899     3.5  1340343436     376    7106      3.5\n",
              "93176     599     1623     2.5  1498516912     598    8881      2.5\n",
              "80037     501      849     3.0   844974390     500     263      3.0\n",
              "30727     216      125     5.0   975212597     215     297      5.0\n",
              "11590      68   106489     3.0  1526947640      67     958      3.0\n",
              "\n",
              "[100836 rows x 7 columns]"
            ],
            "text/html": [
              "\n",
              "  <div id=\"df-74c92965-2f58-4fe2-b39d-1fda4c238839\">\n",
              "    <div class=\"colab-df-container\">\n",
              "      <div>\n",
              "<style scoped>\n",
              "    .dataframe tbody tr th:only-of-type {\n",
              "        vertical-align: middle;\n",
              "    }\n",
              "\n",
              "    .dataframe tbody tr th {\n",
              "        vertical-align: top;\n",
              "    }\n",
              "\n",
              "    .dataframe thead th {\n",
              "        text-align: right;\n",
              "    }\n",
              "</style>\n",
              "<table border=\"1\" class=\"dataframe\">\n",
              "  <thead>\n",
              "    <tr style=\"text-align: right;\">\n",
              "      <th></th>\n",
              "      <th>userId</th>\n",
              "      <th>movieId</th>\n",
              "      <th>rating</th>\n",
              "      <th>timestamp</th>\n",
              "      <th>genres</th>\n",
              "      <th>movies</th>\n",
              "      <th>ratings</th>\n",
              "    </tr>\n",
              "  </thead>\n",
              "  <tbody>\n",
              "    <tr>\n",
              "      <th>20567</th>\n",
              "      <td>135</td>\n",
              "      <td>3360</td>\n",
              "      <td>3.0</td>\n",
              "      <td>1009693935</td>\n",
              "      <td>134</td>\n",
              "      <td>2204</td>\n",
              "      <td>3.0</td>\n",
              "    </tr>\n",
              "    <tr>\n",
              "      <th>70093</th>\n",
              "      <td>448</td>\n",
              "      <td>98296</td>\n",
              "      <td>1.5</td>\n",
              "      <td>1367270204</td>\n",
              "      <td>447</td>\n",
              "      <td>7869</td>\n",
              "      <td>1.5</td>\n",
              "    </tr>\n",
              "    <tr>\n",
              "      <th>74428</th>\n",
              "      <td>474</td>\n",
              "      <td>5349</td>\n",
              "      <td>4.5</td>\n",
              "      <td>1100291637</td>\n",
              "      <td>473</td>\n",
              "      <td>756</td>\n",
              "      <td>4.5</td>\n",
              "    </tr>\n",
              "    <tr>\n",
              "      <th>3469</th>\n",
              "      <td>21</td>\n",
              "      <td>63082</td>\n",
              "      <td>3.5</td>\n",
              "      <td>1468113389</td>\n",
              "      <td>20</td>\n",
              "      <td>1915</td>\n",
              "      <td>3.5</td>\n",
              "    </tr>\n",
              "    <tr>\n",
              "      <th>4439</th>\n",
              "      <td>28</td>\n",
              "      <td>4027</td>\n",
              "      <td>3.5</td>\n",
              "      <td>1242031777</td>\n",
              "      <td>27</td>\n",
              "      <td>436</td>\n",
              "      <td>3.5</td>\n",
              "    </tr>\n",
              "    <tr>\n",
              "      <th>...</th>\n",
              "      <td>...</td>\n",
              "      <td>...</td>\n",
              "      <td>...</td>\n",
              "      <td>...</td>\n",
              "      <td>...</td>\n",
              "      <td>...</td>\n",
              "      <td>...</td>\n",
              "    </tr>\n",
              "    <tr>\n",
              "      <th>56760</th>\n",
              "      <td>377</td>\n",
              "      <td>6899</td>\n",
              "      <td>3.5</td>\n",
              "      <td>1340343436</td>\n",
              "      <td>376</td>\n",
              "      <td>7106</td>\n",
              "      <td>3.5</td>\n",
              "    </tr>\n",
              "    <tr>\n",
              "      <th>93176</th>\n",
              "      <td>599</td>\n",
              "      <td>1623</td>\n",
              "      <td>2.5</td>\n",
              "      <td>1498516912</td>\n",
              "      <td>598</td>\n",
              "      <td>8881</td>\n",
              "      <td>2.5</td>\n",
              "    </tr>\n",
              "    <tr>\n",
              "      <th>80037</th>\n",
              "      <td>501</td>\n",
              "      <td>849</td>\n",
              "      <td>3.0</td>\n",
              "      <td>844974390</td>\n",
              "      <td>500</td>\n",
              "      <td>263</td>\n",
              "      <td>3.0</td>\n",
              "    </tr>\n",
              "    <tr>\n",
              "      <th>30727</th>\n",
              "      <td>216</td>\n",
              "      <td>125</td>\n",
              "      <td>5.0</td>\n",
              "      <td>975212597</td>\n",
              "      <td>215</td>\n",
              "      <td>297</td>\n",
              "      <td>5.0</td>\n",
              "    </tr>\n",
              "    <tr>\n",
              "      <th>11590</th>\n",
              "      <td>68</td>\n",
              "      <td>106489</td>\n",
              "      <td>3.0</td>\n",
              "      <td>1526947640</td>\n",
              "      <td>67</td>\n",
              "      <td>958</td>\n",
              "      <td>3.0</td>\n",
              "    </tr>\n",
              "  </tbody>\n",
              "</table>\n",
              "<p>100836 rows × 7 columns</p>\n",
              "</div>\n",
              "      <button class=\"colab-df-convert\" onclick=\"convertToInteractive('df-74c92965-2f58-4fe2-b39d-1fda4c238839')\"\n",
              "              title=\"Convert this dataframe to an interactive table.\"\n",
              "              style=\"display:none;\">\n",
              "        \n",
              "  <svg xmlns=\"http://www.w3.org/2000/svg\" height=\"24px\"viewBox=\"0 0 24 24\"\n",
              "       width=\"24px\">\n",
              "    <path d=\"M0 0h24v24H0V0z\" fill=\"none\"/>\n",
              "    <path d=\"M18.56 5.44l.94 2.06.94-2.06 2.06-.94-2.06-.94-.94-2.06-.94 2.06-2.06.94zm-11 1L8.5 8.5l.94-2.06 2.06-.94-2.06-.94L8.5 2.5l-.94 2.06-2.06.94zm10 10l.94 2.06.94-2.06 2.06-.94-2.06-.94-.94-2.06-.94 2.06-2.06.94z\"/><path d=\"M17.41 7.96l-1.37-1.37c-.4-.4-.92-.59-1.43-.59-.52 0-1.04.2-1.43.59L10.3 9.45l-7.72 7.72c-.78.78-.78 2.05 0 2.83L4 21.41c.39.39.9.59 1.41.59.51 0 1.02-.2 1.41-.59l7.78-7.78 2.81-2.81c.8-.78.8-2.07 0-2.86zM5.41 20L4 18.59l7.72-7.72 1.47 1.35L5.41 20z\"/>\n",
              "  </svg>\n",
              "      </button>\n",
              "      \n",
              "  <style>\n",
              "    .colab-df-container {\n",
              "      display:flex;\n",
              "      flex-wrap:wrap;\n",
              "      gap: 12px;\n",
              "    }\n",
              "\n",
              "    .colab-df-convert {\n",
              "      background-color: #E8F0FE;\n",
              "      border: none;\n",
              "      border-radius: 50%;\n",
              "      cursor: pointer;\n",
              "      display: none;\n",
              "      fill: #1967D2;\n",
              "      height: 32px;\n",
              "      padding: 0 0 0 0;\n",
              "      width: 32px;\n",
              "    }\n",
              "\n",
              "    .colab-df-convert:hover {\n",
              "      background-color: #E2EBFA;\n",
              "      box-shadow: 0px 1px 2px rgba(60, 64, 67, 0.3), 0px 1px 3px 1px rgba(60, 64, 67, 0.15);\n",
              "      fill: #174EA6;\n",
              "    }\n",
              "\n",
              "    [theme=dark] .colab-df-convert {\n",
              "      background-color: #3B4455;\n",
              "      fill: #D2E3FC;\n",
              "    }\n",
              "\n",
              "    [theme=dark] .colab-df-convert:hover {\n",
              "      background-color: #434B5C;\n",
              "      box-shadow: 0px 1px 3px 1px rgba(0, 0, 0, 0.15);\n",
              "      filter: drop-shadow(0px 1px 2px rgba(0, 0, 0, 0.3));\n",
              "      fill: #FFFFFF;\n",
              "    }\n",
              "  </style>\n",
              "\n",
              "      <script>\n",
              "        const buttonEl =\n",
              "          document.querySelector('#df-74c92965-2f58-4fe2-b39d-1fda4c238839 button.colab-df-convert');\n",
              "        buttonEl.style.display =\n",
              "          google.colab.kernel.accessAllowed ? 'block' : 'none';\n",
              "\n",
              "        async function convertToInteractive(key) {\n",
              "          const element = document.querySelector('#df-74c92965-2f58-4fe2-b39d-1fda4c238839');\n",
              "          const dataTable =\n",
              "            await google.colab.kernel.invokeFunction('convertToInteractive',\n",
              "                                                     [key], {});\n",
              "          if (!dataTable) return;\n",
              "\n",
              "          const docLinkHtml = 'Like what you see? Visit the ' +\n",
              "            '<a target=\"_blank\" href=https://colab.research.google.com/notebooks/data_table.ipynb>data table notebook</a>'\n",
              "            + ' to learn more about interactive tables.';\n",
              "          element.innerHTML = '';\n",
              "          dataTable['output_type'] = 'display_data';\n",
              "          await google.colab.output.renderOutput(dataTable, element);\n",
              "          const docLink = document.createElement('div');\n",
              "          docLink.innerHTML = docLinkHtml;\n",
              "          element.appendChild(docLink);\n",
              "        }\n",
              "      </script>\n",
              "    </div>\n",
              "  </div>\n",
              "  "
            ]
          },
          "metadata": {},
          "execution_count": 22
        }
      ]
    },
    {
      "cell_type": "markdown",
      "source": [
        "**Membagi Data Train dan Data Validasi**\n",
        "\n",
        "---\n",
        "Membuat variabel x dan y untuk membagi data train dan data validasi pada dataset yang digunakan."
      ],
      "metadata": {
        "id": "ByGOPrIZuZ-n"
      }
    },
    {
      "cell_type": "code",
      "source": [
        "x = df[['genres', 'movies']].values\n",
        " \n",
        "y = df['ratings'].apply(lambda x: (x - min_rating) / (max_rating - min_rating)).values\n",
        " \n",
        "# Membagi dataset menjadi 80% data train dan 20% data validasi\n",
        "train_indices = int(0.8 * df.shape[0])\n",
        "x_train, x_val, y_train, y_val = (\n",
        "    x[:train_indices],\n",
        "    x[train_indices:],\n",
        "    y[:train_indices],\n",
        "    y[train_indices:]\n",
        ")\n",
        " \n",
        "print(x, y)"
      ],
      "metadata": {
        "colab": {
          "base_uri": "https://localhost:8080/"
        },
        "id": "_Nrp7wRS8cvV",
        "outputId": "65cf62da-e0ee-4388-c35f-588c100b115e"
      },
      "execution_count": null,
      "outputs": [
        {
          "output_type": "stream",
          "name": "stdout",
          "text": [
            "[[ 134 2204]\n",
            " [ 447 7869]\n",
            " [ 473  756]\n",
            " ...\n",
            " [ 500  263]\n",
            " [ 215  297]\n",
            " [  67  958]] [0.55555556 0.22222222 0.88888889 ... 0.55555556 1.         0.55555556]\n"
          ]
        }
      ]
    },
    {
      "cell_type": "markdown",
      "source": [
        "**Membuat Fungsi Untuk Collaborative Filtering**\n",
        "\n",
        "---\n",
        "Membuat fungsi dengan menggunakan bahasa python untuk sistem rekomendasi Collaborative Filtering."
      ],
      "metadata": {
        "id": "nV0XRCbmvIhi"
      }
    },
    {
      "cell_type": "code",
      "source": [
        "class RecommenderNet(tf.keras.Model):\n",
        " \n",
        "  # Insialisasi fungsi\n",
        "  def __init__(self, num_users, num_movie, embedding_size, **kwargs):\n",
        "    super(RecommenderNet, self).__init__(**kwargs)\n",
        "    self.num_users = num_users\n",
        "    self.num_movie = num_movie\n",
        "    self.embedding_size = embedding_size\n",
        "    self.user_embedding = layers.Embedding( # layer embedding user\n",
        "        num_users,\n",
        "        embedding_size,\n",
        "        embeddings_initializer = 'he_normal',\n",
        "        embeddings_regularizer = keras.regularizers.l2(1e-6)\n",
        "    )\n",
        "    self.user_bias = layers.Embedding(num_users, 1) # layer embedding user bias\n",
        "    self.movie_embedding = layers.Embedding( # layer embeddings movies\n",
        "        num_movie,\n",
        "        embedding_size,\n",
        "        embeddings_initializer = 'he_normal',\n",
        "        embeddings_regularizer = keras.regularizers.l2(1e-6)\n",
        "    )\n",
        "    self.movie_bias = layers.Embedding(num_movie, 1) # layer embedding movies bias\n",
        " \n",
        "  def call(self, inputs):\n",
        "    user_vector = self.user_embedding(inputs[:,0]) # memanggil layer embedding 1\n",
        "    user_bias = self.user_bias(inputs[:, 0]) # memanggil layer embedding 2\n",
        "    movie_vector = self.movie_embedding(inputs[:, 1]) # memanggil layer embedding 3\n",
        "    movie_bias = self.movie_bias(inputs[:, 1]) # memanggil layer embedding 4\n",
        " \n",
        "    dot_user_movie = tf.tensordot(user_vector, movie_vector, 2) \n",
        " \n",
        "    x = dot_user_movie + user_bias + movie_bias\n",
        "    \n",
        "    return tf.nn.sigmoid(x) # activation sigmoid"
      ],
      "metadata": {
        "id": "xVglWKN_8iZC"
      },
      "execution_count": null,
      "outputs": []
    },
    {
      "cell_type": "markdown",
      "source": [
        "**Melakukan Compile data**\n",
        "\n",
        "---\n",
        "Melakukan compile data untuk persiapan proses pelatihan data."
      ],
      "metadata": {
        "id": "lYbSCvPzvY30"
      }
    },
    {
      "cell_type": "code",
      "source": [
        "model = RecommenderNet(total_users, total_movies, 50)\n",
        " \n",
        "# model compile\n",
        "model.compile(\n",
        "    loss = tf.keras.losses.BinaryCrossentropy(),\n",
        "    optimizer = keras.optimizers.Adam(learning_rate=0.001),\n",
        "    metrics=[tf.keras.metrics.RootMeanSquaredError()]\n",
        ")"
      ],
      "metadata": {
        "id": "_VADKst28okr"
      },
      "execution_count": null,
      "outputs": []
    },
    {
      "cell_type": "markdown",
      "source": [
        "**Proses Pelatihan Data**\n",
        "\n",
        "---\n",
        "Proses Pelatihan data sebanyak 100 epoch."
      ],
      "metadata": {
        "id": "iYFfzkshv9bp"
      }
    },
    {
      "cell_type": "code",
      "source": [
        "history = model.fit(\n",
        "    x = x_train,\n",
        "    y = y_train,\n",
        "    batch_size = 64,\n",
        "    epochs = 100,\n",
        "    validation_data = (x_val, y_val)\n",
        ")"
      ],
      "metadata": {
        "colab": {
          "base_uri": "https://localhost:8080/"
        },
        "id": "uBq6sbxR8tLw",
        "outputId": "43bc1e97-26f4-4700-97a3-e55663b0fb26"
      },
      "execution_count": null,
      "outputs": [
        {
          "output_type": "stream",
          "name": "stdout",
          "text": [
            "Epoch 1/100\n",
            "1261/1261 [==============================] - 15s 11ms/step - loss: 0.6392 - root_mean_squared_error: 0.2352 - val_loss: 0.6192 - val_root_mean_squared_error: 0.2137\n",
            "Epoch 2/100\n",
            "1261/1261 [==============================] - 12s 9ms/step - loss: 0.6148 - root_mean_squared_error: 0.2097 - val_loss: 0.6204 - val_root_mean_squared_error: 0.2145\n",
            "Epoch 3/100\n",
            "1261/1261 [==============================] - 11s 9ms/step - loss: 0.6095 - root_mean_squared_error: 0.2040 - val_loss: 0.6133 - val_root_mean_squared_error: 0.2071\n",
            "Epoch 4/100\n",
            "1261/1261 [==============================] - 10s 8ms/step - loss: 0.6073 - root_mean_squared_error: 0.2014 - val_loss: 0.6112 - val_root_mean_squared_error: 0.2049\n",
            "Epoch 5/100\n",
            "1261/1261 [==============================] - 10s 8ms/step - loss: 0.6075 - root_mean_squared_error: 0.2015 - val_loss: 0.6108 - val_root_mean_squared_error: 0.2045\n",
            "Epoch 6/100\n",
            "1261/1261 [==============================] - 11s 9ms/step - loss: 0.6069 - root_mean_squared_error: 0.2006 - val_loss: 0.6116 - val_root_mean_squared_error: 0.2053\n",
            "Epoch 7/100\n",
            "1261/1261 [==============================] - 11s 9ms/step - loss: 0.6061 - root_mean_squared_error: 0.1994 - val_loss: 0.6098 - val_root_mean_squared_error: 0.2031\n",
            "Epoch 8/100\n",
            "1261/1261 [==============================] - 10s 8ms/step - loss: 0.6052 - root_mean_squared_error: 0.1983 - val_loss: 0.6097 - val_root_mean_squared_error: 0.2030\n",
            "Epoch 9/100\n",
            "1261/1261 [==============================] - 11s 8ms/step - loss: 0.6047 - root_mean_squared_error: 0.1975 - val_loss: 0.6094 - val_root_mean_squared_error: 0.2025\n",
            "Epoch 10/100\n",
            "1261/1261 [==============================] - 11s 9ms/step - loss: 0.6036 - root_mean_squared_error: 0.1963 - val_loss: 0.6116 - val_root_mean_squared_error: 0.2049\n",
            "Epoch 11/100\n",
            "1261/1261 [==============================] - 11s 8ms/step - loss: 0.6049 - root_mean_squared_error: 0.1975 - val_loss: 0.6109 - val_root_mean_squared_error: 0.2039\n",
            "Epoch 12/100\n",
            "1261/1261 [==============================] - 10s 8ms/step - loss: 0.6041 - root_mean_squared_error: 0.1963 - val_loss: 0.6093 - val_root_mean_squared_error: 0.2018\n",
            "Epoch 13/100\n",
            "1261/1261 [==============================] - 11s 9ms/step - loss: 0.6038 - root_mean_squared_error: 0.1957 - val_loss: 0.6116 - val_root_mean_squared_error: 0.2043\n",
            "Epoch 14/100\n",
            "1261/1261 [==============================] - 11s 9ms/step - loss: 0.6036 - root_mean_squared_error: 0.1955 - val_loss: 0.6110 - val_root_mean_squared_error: 0.2035\n",
            "Epoch 15/100\n",
            "1261/1261 [==============================] - 11s 9ms/step - loss: 0.6040 - root_mean_squared_error: 0.1956 - val_loss: 0.6121 - val_root_mean_squared_error: 0.2048\n",
            "Epoch 16/100\n",
            "1261/1261 [==============================] - 10s 8ms/step - loss: 0.6036 - root_mean_squared_error: 0.1952 - val_loss: 0.6101 - val_root_mean_squared_error: 0.2023\n",
            "Epoch 17/100\n",
            "1261/1261 [==============================] - 11s 9ms/step - loss: 0.6040 - root_mean_squared_error: 0.1954 - val_loss: 0.6139 - val_root_mean_squared_error: 0.2065\n",
            "Epoch 18/100\n",
            "1261/1261 [==============================] - 11s 9ms/step - loss: 0.6038 - root_mean_squared_error: 0.1951 - val_loss: 0.6131 - val_root_mean_squared_error: 0.2054\n",
            "Epoch 19/100\n",
            "1261/1261 [==============================] - 11s 9ms/step - loss: 0.6045 - root_mean_squared_error: 0.1956 - val_loss: 0.6113 - val_root_mean_squared_error: 0.2033\n",
            "Epoch 20/100\n",
            "1261/1261 [==============================] - 10s 8ms/step - loss: 0.6052 - root_mean_squared_error: 0.1961 - val_loss: 0.6129 - val_root_mean_squared_error: 0.2053\n",
            "Epoch 21/100\n",
            "1261/1261 [==============================] - 11s 9ms/step - loss: 0.6031 - root_mean_squared_error: 0.1937 - val_loss: 0.6123 - val_root_mean_squared_error: 0.2044\n",
            "Epoch 22/100\n",
            "1261/1261 [==============================] - 11s 9ms/step - loss: 0.6037 - root_mean_squared_error: 0.1943 - val_loss: 0.6127 - val_root_mean_squared_error: 0.2046\n",
            "Epoch 23/100\n",
            "1261/1261 [==============================] - 11s 9ms/step - loss: 0.6036 - root_mean_squared_error: 0.1943 - val_loss: 0.6121 - val_root_mean_squared_error: 0.2039\n",
            "Epoch 24/100\n",
            "1261/1261 [==============================] - 10s 8ms/step - loss: 0.6042 - root_mean_squared_error: 0.1948 - val_loss: 0.6120 - val_root_mean_squared_error: 0.2037\n",
            "Epoch 25/100\n",
            "1261/1261 [==============================] - 10s 8ms/step - loss: 0.6040 - root_mean_squared_error: 0.1945 - val_loss: 0.6137 - val_root_mean_squared_error: 0.2055\n",
            "Epoch 26/100\n",
            "1261/1261 [==============================] - 11s 9ms/step - loss: 0.6039 - root_mean_squared_error: 0.1944 - val_loss: 0.6126 - val_root_mean_squared_error: 0.2040\n",
            "Epoch 27/100\n",
            "1261/1261 [==============================] - 11s 9ms/step - loss: 0.6050 - root_mean_squared_error: 0.1953 - val_loss: 0.6139 - val_root_mean_squared_error: 0.2056\n",
            "Epoch 28/100\n",
            "1261/1261 [==============================] - 10s 8ms/step - loss: 0.6035 - root_mean_squared_error: 0.1937 - val_loss: 0.6124 - val_root_mean_squared_error: 0.2037\n",
            "Epoch 29/100\n",
            "1261/1261 [==============================] - 11s 8ms/step - loss: 0.6046 - root_mean_squared_error: 0.1947 - val_loss: 0.6148 - val_root_mean_squared_error: 0.2064\n",
            "Epoch 30/100\n",
            "1261/1261 [==============================] - 11s 8ms/step - loss: 0.6043 - root_mean_squared_error: 0.1945 - val_loss: 0.6150 - val_root_mean_squared_error: 0.2065\n",
            "Epoch 31/100\n",
            "1261/1261 [==============================] - 11s 8ms/step - loss: 0.6045 - root_mean_squared_error: 0.1947 - val_loss: 0.6148 - val_root_mean_squared_error: 0.2063\n",
            "Epoch 32/100\n",
            "1261/1261 [==============================] - 10s 8ms/step - loss: 0.6041 - root_mean_squared_error: 0.1942 - val_loss: 0.6159 - val_root_mean_squared_error: 0.2073\n",
            "Epoch 33/100\n",
            "1261/1261 [==============================] - 11s 9ms/step - loss: 0.6050 - root_mean_squared_error: 0.1948 - val_loss: 0.6147 - val_root_mean_squared_error: 0.2059\n",
            "Epoch 34/100\n",
            "1261/1261 [==============================] - 11s 9ms/step - loss: 0.6044 - root_mean_squared_error: 0.1941 - val_loss: 0.6155 - val_root_mean_squared_error: 0.2069\n",
            "Epoch 35/100\n",
            "1261/1261 [==============================] - 10s 8ms/step - loss: 0.6053 - root_mean_squared_error: 0.1953 - val_loss: 0.6138 - val_root_mean_squared_error: 0.2046\n",
            "Epoch 36/100\n",
            "1261/1261 [==============================] - 10s 8ms/step - loss: 0.6056 - root_mean_squared_error: 0.1952 - val_loss: 0.6161 - val_root_mean_squared_error: 0.2075\n",
            "Epoch 37/100\n",
            "1261/1261 [==============================] - 11s 9ms/step - loss: 0.6061 - root_mean_squared_error: 0.1959 - val_loss: 0.6153 - val_root_mean_squared_error: 0.2062\n",
            "Epoch 38/100\n",
            "1261/1261 [==============================] - 11s 9ms/step - loss: 0.6049 - root_mean_squared_error: 0.1943 - val_loss: 0.6164 - val_root_mean_squared_error: 0.2074\n",
            "Epoch 39/100\n",
            "1261/1261 [==============================] - 10s 8ms/step - loss: 0.6061 - root_mean_squared_error: 0.1957 - val_loss: 0.6153 - val_root_mean_squared_error: 0.2059\n",
            "Epoch 40/100\n",
            "1261/1261 [==============================] - 11s 8ms/step - loss: 0.6046 - root_mean_squared_error: 0.1942 - val_loss: 0.6166 - val_root_mean_squared_error: 0.2073\n",
            "Epoch 41/100\n",
            "1261/1261 [==============================] - 11s 9ms/step - loss: 0.6068 - root_mean_squared_error: 0.1964 - val_loss: 0.6151 - val_root_mean_squared_error: 0.2053\n",
            "Epoch 42/100\n",
            "1261/1261 [==============================] - 11s 9ms/step - loss: 0.6048 - root_mean_squared_error: 0.1943 - val_loss: 0.6152 - val_root_mean_squared_error: 0.2057\n",
            "Epoch 43/100\n",
            "1261/1261 [==============================] - 10s 8ms/step - loss: 0.6050 - root_mean_squared_error: 0.1946 - val_loss: 0.6134 - val_root_mean_squared_error: 0.2036\n",
            "Epoch 44/100\n",
            "1261/1261 [==============================] - 11s 9ms/step - loss: 0.6060 - root_mean_squared_error: 0.1955 - val_loss: 0.6148 - val_root_mean_squared_error: 0.2051\n",
            "Epoch 45/100\n",
            "1261/1261 [==============================] - 11s 9ms/step - loss: 0.6048 - root_mean_squared_error: 0.1940 - val_loss: 0.6163 - val_root_mean_squared_error: 0.2069\n",
            "Epoch 46/100\n",
            "1261/1261 [==============================] - 11s 9ms/step - loss: 0.6057 - root_mean_squared_error: 0.1951 - val_loss: 0.6142 - val_root_mean_squared_error: 0.2044\n",
            "Epoch 47/100\n",
            "1261/1261 [==============================] - 10s 8ms/step - loss: 0.6062 - root_mean_squared_error: 0.1953 - val_loss: 0.6163 - val_root_mean_squared_error: 0.2068\n",
            "Epoch 48/100\n",
            "1261/1261 [==============================] - 11s 9ms/step - loss: 0.6058 - root_mean_squared_error: 0.1954 - val_loss: 0.6165 - val_root_mean_squared_error: 0.2062\n",
            "Epoch 49/100\n",
            "1261/1261 [==============================] - 11s 9ms/step - loss: 0.6072 - root_mean_squared_error: 0.1962 - val_loss: 0.6163 - val_root_mean_squared_error: 0.2065\n",
            "Epoch 50/100\n",
            "1261/1261 [==============================] - 11s 9ms/step - loss: 0.6072 - root_mean_squared_error: 0.1965 - val_loss: 0.6159 - val_root_mean_squared_error: 0.2056\n",
            "Epoch 51/100\n",
            "1261/1261 [==============================] - 11s 9ms/step - loss: 0.6059 - root_mean_squared_error: 0.1947 - val_loss: 0.6183 - val_root_mean_squared_error: 0.2087\n",
            "Epoch 52/100\n",
            "1261/1261 [==============================] - 10s 8ms/step - loss: 0.6073 - root_mean_squared_error: 0.1968 - val_loss: 0.6170 - val_root_mean_squared_error: 0.2063\n",
            "Epoch 53/100\n",
            "1261/1261 [==============================] - 11s 9ms/step - loss: 0.6061 - root_mean_squared_error: 0.1947 - val_loss: 0.6177 - val_root_mean_squared_error: 0.2079\n",
            "Epoch 54/100\n",
            "1261/1261 [==============================] - 11s 9ms/step - loss: 0.6069 - root_mean_squared_error: 0.1970 - val_loss: 0.6172 - val_root_mean_squared_error: 0.2058\n",
            "Epoch 55/100\n",
            "1261/1261 [==============================] - 11s 9ms/step - loss: 0.6064 - root_mean_squared_error: 0.1942 - val_loss: 0.6196 - val_root_mean_squared_error: 0.2103\n",
            "Epoch 56/100\n",
            "1261/1261 [==============================] - 11s 9ms/step - loss: 0.6091 - root_mean_squared_error: 0.1996 - val_loss: 0.6204 - val_root_mean_squared_error: 0.2080\n",
            "Epoch 57/100\n",
            "1261/1261 [==============================] - 12s 9ms/step - loss: 0.6072 - root_mean_squared_error: 0.1948 - val_loss: 0.6228 - val_root_mean_squared_error: 0.2139\n",
            "Epoch 58/100\n",
            "1261/1261 [==============================] - 12s 9ms/step - loss: 0.6080 - root_mean_squared_error: 0.1984 - val_loss: 0.6190 - val_root_mean_squared_error: 0.2068\n",
            "Epoch 59/100\n",
            "1261/1261 [==============================] - 12s 9ms/step - loss: 0.6066 - root_mean_squared_error: 0.1941 - val_loss: 0.6230 - val_root_mean_squared_error: 0.2142\n",
            "Epoch 60/100\n",
            "1261/1261 [==============================] - 10s 8ms/step - loss: 0.6074 - root_mean_squared_error: 0.1977 - val_loss: 0.6156 - val_root_mean_squared_error: 0.2037\n",
            "Epoch 61/100\n",
            "1261/1261 [==============================] - 11s 9ms/step - loss: 0.6050 - root_mean_squared_error: 0.1929 - val_loss: 0.6179 - val_root_mean_squared_error: 0.2085\n",
            "Epoch 62/100\n",
            "1261/1261 [==============================] - 11s 9ms/step - loss: 0.6049 - root_mean_squared_error: 0.1950 - val_loss: 0.6168 - val_root_mean_squared_error: 0.2048\n",
            "Epoch 63/100\n",
            "1261/1261 [==============================] - 12s 9ms/step - loss: 0.6056 - root_mean_squared_error: 0.1934 - val_loss: 0.6171 - val_root_mean_squared_error: 0.2078\n",
            "Epoch 64/100\n",
            "1261/1261 [==============================] - 11s 9ms/step - loss: 0.6040 - root_mean_squared_error: 0.1941 - val_loss: 0.6160 - val_root_mean_squared_error: 0.2040\n",
            "Epoch 65/100\n",
            "1261/1261 [==============================] - 10s 8ms/step - loss: 0.6029 - root_mean_squared_error: 0.1911 - val_loss: 0.6176 - val_root_mean_squared_error: 0.2083\n",
            "Epoch 66/100\n",
            "1261/1261 [==============================] - 11s 9ms/step - loss: 0.6037 - root_mean_squared_error: 0.1937 - val_loss: 0.6174 - val_root_mean_squared_error: 0.2054\n",
            "Epoch 67/100\n",
            "1261/1261 [==============================] - 11s 9ms/step - loss: 0.6049 - root_mean_squared_error: 0.1929 - val_loss: 0.6181 - val_root_mean_squared_error: 0.2082\n",
            "Epoch 68/100\n",
            "1261/1261 [==============================] - 11s 9ms/step - loss: 0.6050 - root_mean_squared_error: 0.1949 - val_loss: 0.6175 - val_root_mean_squared_error: 0.2052\n",
            "Epoch 69/100\n",
            "1261/1261 [==============================] - 11s 8ms/step - loss: 0.6047 - root_mean_squared_error: 0.1927 - val_loss: 0.6171 - val_root_mean_squared_error: 0.2069\n",
            "Epoch 70/100\n",
            "1261/1261 [==============================] - 11s 9ms/step - loss: 0.6041 - root_mean_squared_error: 0.1942 - val_loss: 0.6184 - val_root_mean_squared_error: 0.2059\n",
            "Epoch 71/100\n",
            "1261/1261 [==============================] - 12s 9ms/step - loss: 0.6042 - root_mean_squared_error: 0.1925 - val_loss: 0.6167 - val_root_mean_squared_error: 0.2064\n",
            "Epoch 72/100\n",
            "1261/1261 [==============================] - 11s 9ms/step - loss: 0.6056 - root_mean_squared_error: 0.1956 - val_loss: 0.6198 - val_root_mean_squared_error: 0.2071\n",
            "Epoch 73/100\n",
            "1261/1261 [==============================] - 10s 8ms/step - loss: 0.6049 - root_mean_squared_error: 0.1930 - val_loss: 0.6184 - val_root_mean_squared_error: 0.2084\n",
            "Epoch 74/100\n",
            "1261/1261 [==============================] - 11s 9ms/step - loss: 0.6056 - root_mean_squared_error: 0.1957 - val_loss: 0.6216 - val_root_mean_squared_error: 0.2082\n",
            "Epoch 75/100\n",
            "1261/1261 [==============================] - 11s 9ms/step - loss: 0.6053 - root_mean_squared_error: 0.1932 - val_loss: 0.6183 - val_root_mean_squared_error: 0.2081\n",
            "Epoch 76/100\n",
            "1261/1261 [==============================] - 11s 9ms/step - loss: 0.6043 - root_mean_squared_error: 0.1944 - val_loss: 0.6205 - val_root_mean_squared_error: 0.2074\n",
            "Epoch 77/100\n",
            "1261/1261 [==============================] - 10s 8ms/step - loss: 0.6048 - root_mean_squared_error: 0.1927 - val_loss: 0.6186 - val_root_mean_squared_error: 0.2083\n",
            "Epoch 78/100\n",
            "1261/1261 [==============================] - 11s 9ms/step - loss: 0.6044 - root_mean_squared_error: 0.1944 - val_loss: 0.6200 - val_root_mean_squared_error: 0.2073\n",
            "Epoch 79/100\n",
            "1261/1261 [==============================] - 11s 9ms/step - loss: 0.6033 - root_mean_squared_error: 0.1914 - val_loss: 0.6185 - val_root_mean_squared_error: 0.2080\n",
            "Epoch 80/100\n",
            "1261/1261 [==============================] - 11s 9ms/step - loss: 0.6045 - root_mean_squared_error: 0.1945 - val_loss: 0.6191 - val_root_mean_squared_error: 0.2065\n",
            "Epoch 81/100\n",
            "1261/1261 [==============================] - 10s 8ms/step - loss: 0.6047 - root_mean_squared_error: 0.1928 - val_loss: 0.6182 - val_root_mean_squared_error: 0.2074\n",
            "Epoch 82/100\n",
            "1261/1261 [==============================] - 11s 9ms/step - loss: 0.6053 - root_mean_squared_error: 0.1952 - val_loss: 0.6187 - val_root_mean_squared_error: 0.2062\n",
            "Epoch 83/100\n",
            "1261/1261 [==============================] - 11s 9ms/step - loss: 0.6051 - root_mean_squared_error: 0.1931 - val_loss: 0.6183 - val_root_mean_squared_error: 0.2080\n",
            "Epoch 84/100\n",
            "1261/1261 [==============================] - 12s 9ms/step - loss: 0.6048 - root_mean_squared_error: 0.1951 - val_loss: 0.6193 - val_root_mean_squared_error: 0.2065\n",
            "Epoch 85/100\n",
            "1261/1261 [==============================] - 10s 8ms/step - loss: 0.6056 - root_mean_squared_error: 0.1935 - val_loss: 0.6178 - val_root_mean_squared_error: 0.2074\n",
            "Epoch 86/100\n",
            "1261/1261 [==============================] - 11s 9ms/step - loss: 0.6049 - root_mean_squared_error: 0.1951 - val_loss: 0.6206 - val_root_mean_squared_error: 0.2077\n",
            "Epoch 87/100\n",
            "1261/1261 [==============================] - 12s 9ms/step - loss: 0.6054 - root_mean_squared_error: 0.1933 - val_loss: 0.6197 - val_root_mean_squared_error: 0.2096\n",
            "Epoch 88/100\n",
            "1261/1261 [==============================] - 11s 9ms/step - loss: 0.6063 - root_mean_squared_error: 0.1964 - val_loss: 0.6210 - val_root_mean_squared_error: 0.2078\n",
            "Epoch 89/100\n",
            "1261/1261 [==============================] - 11s 9ms/step - loss: 0.6045 - root_mean_squared_error: 0.1924 - val_loss: 0.6185 - val_root_mean_squared_error: 0.2077\n",
            "Epoch 90/100\n",
            "1261/1261 [==============================] - 10s 8ms/step - loss: 0.6029 - root_mean_squared_error: 0.1929 - val_loss: 0.6190 - val_root_mean_squared_error: 0.2061\n",
            "Epoch 91/100\n",
            "1261/1261 [==============================] - 11s 9ms/step - loss: 0.6044 - root_mean_squared_error: 0.1927 - val_loss: 0.6168 - val_root_mean_squared_error: 0.2060\n",
            "Epoch 92/100\n",
            "1261/1261 [==============================] - 11s 9ms/step - loss: 0.6049 - root_mean_squared_error: 0.1949 - val_loss: 0.6190 - val_root_mean_squared_error: 0.2064\n",
            "Epoch 93/100\n",
            "1261/1261 [==============================] - 12s 9ms/step - loss: 0.6041 - root_mean_squared_error: 0.1924 - val_loss: 0.6168 - val_root_mean_squared_error: 0.2060\n",
            "Epoch 94/100\n",
            "1261/1261 [==============================] - 11s 8ms/step - loss: 0.6042 - root_mean_squared_error: 0.1941 - val_loss: 0.6189 - val_root_mean_squared_error: 0.2061\n",
            "Epoch 95/100\n",
            "1261/1261 [==============================] - 11s 9ms/step - loss: 0.6046 - root_mean_squared_error: 0.1925 - val_loss: 0.6176 - val_root_mean_squared_error: 0.2071\n",
            "Epoch 96/100\n",
            "1261/1261 [==============================] - 11s 9ms/step - loss: 0.6059 - root_mean_squared_error: 0.1960 - val_loss: 0.6210 - val_root_mean_squared_error: 0.2075\n",
            "Epoch 97/100\n",
            "1261/1261 [==============================] - 11s 9ms/step - loss: 0.6047 - root_mean_squared_error: 0.1925 - val_loss: 0.6177 - val_root_mean_squared_error: 0.2071\n",
            "Epoch 98/100\n",
            "1261/1261 [==============================] - 10s 8ms/step - loss: 0.6051 - root_mean_squared_error: 0.1953 - val_loss: 0.6189 - val_root_mean_squared_error: 0.2059\n",
            "Epoch 99/100\n",
            "1261/1261 [==============================] - 11s 9ms/step - loss: 0.6050 - root_mean_squared_error: 0.1931 - val_loss: 0.6195 - val_root_mean_squared_error: 0.2089\n",
            "Epoch 100/100\n",
            "1261/1261 [==============================] - 11s 9ms/step - loss: 0.6047 - root_mean_squared_error: 0.1948 - val_loss: 0.6187 - val_root_mean_squared_error: 0.2058\n"
          ]
        }
      ]
    },
    {
      "cell_type": "markdown",
      "source": [
        "**Visualisasi Hasil Pelatihan Data**\n",
        "\n",
        "---\n",
        "Visualisasi metriks hasil pelatihan data dengan melihat metrik root_mean_squared_error dan metrik val_root_mean_squared_error.\n"
      ],
      "metadata": {
        "id": "jkTCZpVvwHLi"
      }
    },
    {
      "cell_type": "code",
      "source": [
        "plt.plot(history.history['root_mean_squared_error'])\n",
        "plt.plot(history.history['val_root_mean_squared_error'])\n",
        "plt.title('model_metrics')\n",
        "plt.ylabel('root_mean_squared_error')\n",
        "plt.xlabel('epoch')\n",
        "plt.legend(['train', 'test'], loc='upper left')\n",
        "plt.show()"
      ],
      "metadata": {
        "colab": {
          "base_uri": "https://localhost:8080/",
          "height": 472
        },
        "id": "kyIqqFe983of",
        "outputId": "7f474e80-5d44-4512-ac7d-3b1816a744e8"
      },
      "execution_count": null,
      "outputs": [
        {
          "output_type": "display_data",
          "data": {
            "text/plain": [
              "<Figure size 640x480 with 1 Axes>"
            ],
            "image/png": "[encoded data removed]"
          },
          "metadata": {}
        }
      ]
    },
    {
      "cell_type": "markdown",
      "source": [
        "**Persiapan Proses Penggunakan Sistem Collaborative Filtering**\n",
        "\n",
        "---\n",
        "Melakukan Persiapan Proses Penggunakan Sistem Collaborative Filtering."
      ],
      "metadata": {
        "id": "LoBY7FZFwcaq"
      }
    },
    {
      "cell_type": "code",
      "source": [
        "movie_df = movie_content\n",
        "df = pd.read_csv('/content/gdrive/MyDrive/recommendation/ratings.csv')\n",
        " \n",
        "\n",
        "user_id = df.userId.sample(1).iloc[0]\n",
        "movie_watched_by_user = df[df.userId == user_id]\n",
        " \n",
        "\n",
        "movie_not_watched = movie_df[~movie_df['id'].isin(movie_watched_by_user.movieId.values)]['id'] \n",
        "movie_not_watched = list(\n",
        "    set(movie_not_watched)\n",
        "    .intersection(set(encoding_id_film.keys()))\n",
        ")\n",
        " \n",
        "movie_not_watched = [[encoding_id_film.get(x)] for x in movie_not_watched]\n",
        "user_encoder = encoding_id_pengguna.get(user_id)\n",
        "user_movie_array = np.hstack(\n",
        "    ([[user_encoder]] * len(movie_not_watched), movie_not_watched)\n",
        ")"
      ],
      "metadata": {
        "id": "QZG3YBFQ84ZK"
      },
      "execution_count": null,
      "outputs": []
    },
    {
      "cell_type": "markdown",
      "source": [
        "**Mencoba Hasil Sistem Rekomendasi Collaborative Filtering**\n",
        "\n",
        "---\n",
        "Mencoba Hasil Sistem Rekomendasi Collaborative Filtering."
      ],
      "metadata": {
        "id": "1PuZLQIDxTtk"
      }
    },
    {
      "cell_type": "code",
      "source": [
        "ratings = model.predict(user_movie_array).flatten()\n",
        " \n",
        "top_ratings_indices = ratings.argsort()[-10:][::-1]\n",
        "recommended_movie_ids = [\n",
        "    movie_encoded_to_movie.get(movie_not_watched[x][0]) for x in top_ratings_indices\n",
        "]\n",
        " \n",
        "print('Menampilkan Rekomendasi Untuk User: {}'.format(user_id))\n",
        "print('===' * 9)\n",
        "print('Judul Film yang Memiliki Rating Tinggi dari User')\n",
        "print('----' * 8)\n",
        " \n",
        "top_movie_user = (\n",
        "    movie_watched_by_user.sort_values(\n",
        "        by = 'rating',\n",
        "        ascending=False\n",
        "    )\n",
        "    .head(5)\n",
        "    .movieId.values\n",
        ")\n",
        " \n",
        "movie_df_rows = movie_df[movie_df['id'].isin(top_movie_user)]\n",
        "for row in movie_df_rows.itertuples():\n",
        "    print(row.title, ':', row.genres)\n",
        " \n",
        "print('----' * 8)\n",
        "print('Top 10 Rekomendasi Film')\n",
        "print('----' * 8)\n",
        " \n",
        "recommended_movie = movie_df[movie_df['id'].isin(recommended_movie_ids)]\n",
        "for row in recommended_movie.itertuples():\n",
        "    print(row.title, ':', row.genres)"
      ],
      "metadata": {
        "colab": {
          "base_uri": "https://localhost:8080/"
        },
        "id": "J8ZHL00O9Ob3",
        "outputId": "3959fdcb-5c3d-48d7-e09e-dacb9cdace97"
      },
      "execution_count": null,
      "outputs": [
        {
          "output_type": "stream",
          "name": "stdout",
          "text": [
            "215/215 [==============================] - 0s 1ms/step\n",
            "Menampilkan Rekomendasi Untuk User: 594\n",
            "===========================\n",
            "Judul Film yang Memiliki Rating Tinggi dari User\n",
            "--------------------------------\n",
            "Three Musketeers, The (1993) : Action|Adventure|Comedy|Romance\n",
            "Terminator 2: Judgment Day (1991) : Action|Sci-Fi\n",
            "Terminator, The (1984) : Action|Sci-Fi|Thriller\n",
            "Serendipity (2001) : Comedy|Romance\n",
            "--------------------------------\n",
            "Top 10 Rekomendasi Film\n",
            "--------------------------------\n",
            "Lamerica (1994) : Adventure|Drama\n",
            "Heidi Fleiss: Hollywood Madam (1995) : Documentary\n",
            "Lesson Faust (1994) : Animation|Comedy|Drama|Fantasy\n",
            "Swept Away (Travolti da un insolito destino nell'azzurro mare d'Agosto) (1975) : Comedy|Drama\n",
            "Phantom of the Paradise (1974) : Comedy|Fantasy|Horror|Musical|Thriller\n",
            "Belle époque (1992) : Comedy|Romance\n",
            "Trial, The (Procès, Le) (1962) : Drama\n",
            "Troll 2 (1990) : Fantasy|Horror\n",
            "Enter the Void (2009) : Drama\n",
            "What We Do in the Shadows (2014) : Comedy|Horror\n"
          ]
        }
      ]
    },
    {
      "cell_type": "markdown",
      "source": [
        "**Nilai 10% RMSE Untuk Evaluasi Metrik**\n",
        "\n",
        "---\n",
        "- Untuk mengukur ketepatan sistem dalam memberikan rekomendasi film sesuai dengan perilaku user, didapatkan bahwa nilai 10% RMSE, yaitu 0.3029659363385887 \n",
        "- Nilai RMSE error yang didapat pada hasil pelatihan model, yaitu 0.1948 (pada saat training) dan 0.2058 (pada saat validasi).\n",
        "- Berdasarkan metrik tersebut, maka model sudah dapat dikatakan Good Fit."
      ],
      "metadata": {
        "id": "BNfwQyjn_92A"
      }
    },
    {
      "cell_type": "code",
      "source": [
        "rmse_target = sqrt(mean_squared_error(y, ratings['rating']))\n",
        "rmse_target = 0.1 * rmse_target\n",
        "rmse_target"
      ],
      "metadata": {
        "colab": {
          "base_uri": "https://localhost:8080/"
        },
        "id": "VoNhvYi0MGf3",
        "outputId": "60e86cf9-eceb-48d7-857e-4105771c2a4b"
      },
      "execution_count": null,
      "outputs": [
        {
          "output_type": "execute_result",
          "data": {
            "text/plain": [
              "0.3029659363385887"
            ]
          },
          "metadata": {},
          "execution_count": 24
        }
      ]
    }
  ]
}